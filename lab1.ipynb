{
 "cells": [
  {
   "cell_type": "markdown",
   "id": "1ecff738",
   "metadata": {},
   "source": [
    "## Лабораторная 1"
   ]
  },
  {
   "cell_type": "markdown",
   "id": "180ccb96",
   "metadata": {},
   "source": [
    "Ссылка на датасет\n",
    "\n",
    "https://huggingface.co/datasets/maharshipandya/spotify-tracks-dataset"
   ]
  },
  {
   "cell_type": "code",
   "execution_count": 1,
   "id": "0d395298",
   "metadata": {},
   "outputs": [],
   "source": [
    "%matplotlib inline\n",
    "import matplotlib.pyplot as plt\n",
    "import numpy as np\n",
    "import pandas as pd\n",
    "\n",
    "np.random.seed(42)"
   ]
  },
  {
   "cell_type": "code",
   "execution_count": 2,
   "id": "06602ae2",
   "metadata": {},
   "outputs": [
    {
     "data": {
      "application/vnd.microsoft.datawrangler.viewer.v0+json": {
       "columns": [
        {
         "name": "index",
         "rawType": "int64",
         "type": "integer"
        },
        {
         "name": "track_id",
         "rawType": "object",
         "type": "string"
        },
        {
         "name": "artists",
         "rawType": "object",
         "type": "string"
        },
        {
         "name": "album_name",
         "rawType": "object",
         "type": "string"
        },
        {
         "name": "track_name",
         "rawType": "object",
         "type": "string"
        },
        {
         "name": "popularity",
         "rawType": "int64",
         "type": "integer"
        },
        {
         "name": "duration_ms",
         "rawType": "int64",
         "type": "integer"
        },
        {
         "name": "explicit",
         "rawType": "bool",
         "type": "boolean"
        },
        {
         "name": "danceability",
         "rawType": "float64",
         "type": "float"
        },
        {
         "name": "energy",
         "rawType": "float64",
         "type": "float"
        },
        {
         "name": "key",
         "rawType": "int64",
         "type": "integer"
        },
        {
         "name": "loudness",
         "rawType": "float64",
         "type": "float"
        },
        {
         "name": "mode",
         "rawType": "int64",
         "type": "integer"
        },
        {
         "name": "speechiness",
         "rawType": "float64",
         "type": "float"
        },
        {
         "name": "acousticness",
         "rawType": "float64",
         "type": "float"
        },
        {
         "name": "instrumentalness",
         "rawType": "float64",
         "type": "float"
        },
        {
         "name": "liveness",
         "rawType": "float64",
         "type": "float"
        },
        {
         "name": "valence",
         "rawType": "float64",
         "type": "float"
        },
        {
         "name": "tempo",
         "rawType": "float64",
         "type": "float"
        },
        {
         "name": "time_signature",
         "rawType": "int64",
         "type": "integer"
        },
        {
         "name": "track_genre",
         "rawType": "object",
         "type": "string"
        }
       ],
       "ref": "7157d3f6-30eb-45c3-85aa-8a5f84c75f40",
       "rows": [
        [
         "0",
         "5SuOikwiRyPMVoIQDJUgSV",
         "Gen Hoshino",
         "Comedy",
         "Comedy",
         "73",
         "230666",
         "False",
         "0.676",
         "0.461",
         "1",
         "-6.746",
         "0",
         "0.143",
         "0.0322",
         "1.01e-06",
         "0.358",
         "0.715",
         "87.917",
         "4",
         "acoustic"
        ],
        [
         "1",
         "4qPNDBW1i3p13qLCt0Ki3A",
         "Ben Woodward",
         "Ghost (Acoustic)",
         "Ghost - Acoustic",
         "55",
         "149610",
         "False",
         "0.42",
         "0.166",
         "1",
         "-17.235",
         "1",
         "0.0763",
         "0.924",
         "5.56e-06",
         "0.101",
         "0.267",
         "77.489",
         "4",
         "acoustic"
        ],
        [
         "2",
         "1iJBSr7s7jYXzM8EGcbK5b",
         "Ingrid Michaelson;ZAYN",
         "To Begin Again",
         "To Begin Again",
         "57",
         "210826",
         "False",
         "0.438",
         "0.359",
         "0",
         "-9.734",
         "1",
         "0.0557",
         "0.21",
         "0.0",
         "0.117",
         "0.12",
         "76.332",
         "4",
         "acoustic"
        ],
        [
         "3",
         "6lfxq3CG4xtTiEg7opyCyx",
         "Kina Grannis",
         "Crazy Rich Asians (Original Motion Picture Soundtrack)",
         "Can't Help Falling In Love",
         "71",
         "201933",
         "False",
         "0.266",
         "0.0596",
         "0",
         "-18.515",
         "1",
         "0.0363",
         "0.905",
         "7.07e-05",
         "0.132",
         "0.143",
         "181.74",
         "3",
         "acoustic"
        ],
        [
         "4",
         "5vjLSffimiIP26QG5WcN2K",
         "Chord Overstreet",
         "Hold On",
         "Hold On",
         "82",
         "198853",
         "False",
         "0.618",
         "0.443",
         "2",
         "-9.681",
         "1",
         "0.0526",
         "0.469",
         "0.0",
         "0.0829",
         "0.167",
         "119.949",
         "4",
         "acoustic"
        ]
       ],
       "shape": {
        "columns": 20,
        "rows": 5
       }
      },
      "text/html": [
       "<div>\n",
       "<style scoped>\n",
       "    .dataframe tbody tr th:only-of-type {\n",
       "        vertical-align: middle;\n",
       "    }\n",
       "\n",
       "    .dataframe tbody tr th {\n",
       "        vertical-align: top;\n",
       "    }\n",
       "\n",
       "    .dataframe thead th {\n",
       "        text-align: right;\n",
       "    }\n",
       "</style>\n",
       "<table border=\"1\" class=\"dataframe\">\n",
       "  <thead>\n",
       "    <tr style=\"text-align: right;\">\n",
       "      <th></th>\n",
       "      <th>track_id</th>\n",
       "      <th>artists</th>\n",
       "      <th>album_name</th>\n",
       "      <th>track_name</th>\n",
       "      <th>popularity</th>\n",
       "      <th>duration_ms</th>\n",
       "      <th>explicit</th>\n",
       "      <th>danceability</th>\n",
       "      <th>energy</th>\n",
       "      <th>key</th>\n",
       "      <th>loudness</th>\n",
       "      <th>mode</th>\n",
       "      <th>speechiness</th>\n",
       "      <th>acousticness</th>\n",
       "      <th>instrumentalness</th>\n",
       "      <th>liveness</th>\n",
       "      <th>valence</th>\n",
       "      <th>tempo</th>\n",
       "      <th>time_signature</th>\n",
       "      <th>track_genre</th>\n",
       "    </tr>\n",
       "  </thead>\n",
       "  <tbody>\n",
       "    <tr>\n",
       "      <th>0</th>\n",
       "      <td>5SuOikwiRyPMVoIQDJUgSV</td>\n",
       "      <td>Gen Hoshino</td>\n",
       "      <td>Comedy</td>\n",
       "      <td>Comedy</td>\n",
       "      <td>73</td>\n",
       "      <td>230666</td>\n",
       "      <td>False</td>\n",
       "      <td>0.676</td>\n",
       "      <td>0.4610</td>\n",
       "      <td>1</td>\n",
       "      <td>-6.746</td>\n",
       "      <td>0</td>\n",
       "      <td>0.1430</td>\n",
       "      <td>0.0322</td>\n",
       "      <td>0.000001</td>\n",
       "      <td>0.3580</td>\n",
       "      <td>0.715</td>\n",
       "      <td>87.917</td>\n",
       "      <td>4</td>\n",
       "      <td>acoustic</td>\n",
       "    </tr>\n",
       "    <tr>\n",
       "      <th>1</th>\n",
       "      <td>4qPNDBW1i3p13qLCt0Ki3A</td>\n",
       "      <td>Ben Woodward</td>\n",
       "      <td>Ghost (Acoustic)</td>\n",
       "      <td>Ghost - Acoustic</td>\n",
       "      <td>55</td>\n",
       "      <td>149610</td>\n",
       "      <td>False</td>\n",
       "      <td>0.420</td>\n",
       "      <td>0.1660</td>\n",
       "      <td>1</td>\n",
       "      <td>-17.235</td>\n",
       "      <td>1</td>\n",
       "      <td>0.0763</td>\n",
       "      <td>0.9240</td>\n",
       "      <td>0.000006</td>\n",
       "      <td>0.1010</td>\n",
       "      <td>0.267</td>\n",
       "      <td>77.489</td>\n",
       "      <td>4</td>\n",
       "      <td>acoustic</td>\n",
       "    </tr>\n",
       "    <tr>\n",
       "      <th>2</th>\n",
       "      <td>1iJBSr7s7jYXzM8EGcbK5b</td>\n",
       "      <td>Ingrid Michaelson;ZAYN</td>\n",
       "      <td>To Begin Again</td>\n",
       "      <td>To Begin Again</td>\n",
       "      <td>57</td>\n",
       "      <td>210826</td>\n",
       "      <td>False</td>\n",
       "      <td>0.438</td>\n",
       "      <td>0.3590</td>\n",
       "      <td>0</td>\n",
       "      <td>-9.734</td>\n",
       "      <td>1</td>\n",
       "      <td>0.0557</td>\n",
       "      <td>0.2100</td>\n",
       "      <td>0.000000</td>\n",
       "      <td>0.1170</td>\n",
       "      <td>0.120</td>\n",
       "      <td>76.332</td>\n",
       "      <td>4</td>\n",
       "      <td>acoustic</td>\n",
       "    </tr>\n",
       "    <tr>\n",
       "      <th>3</th>\n",
       "      <td>6lfxq3CG4xtTiEg7opyCyx</td>\n",
       "      <td>Kina Grannis</td>\n",
       "      <td>Crazy Rich Asians (Original Motion Picture Sou...</td>\n",
       "      <td>Can't Help Falling In Love</td>\n",
       "      <td>71</td>\n",
       "      <td>201933</td>\n",
       "      <td>False</td>\n",
       "      <td>0.266</td>\n",
       "      <td>0.0596</td>\n",
       "      <td>0</td>\n",
       "      <td>-18.515</td>\n",
       "      <td>1</td>\n",
       "      <td>0.0363</td>\n",
       "      <td>0.9050</td>\n",
       "      <td>0.000071</td>\n",
       "      <td>0.1320</td>\n",
       "      <td>0.143</td>\n",
       "      <td>181.740</td>\n",
       "      <td>3</td>\n",
       "      <td>acoustic</td>\n",
       "    </tr>\n",
       "    <tr>\n",
       "      <th>4</th>\n",
       "      <td>5vjLSffimiIP26QG5WcN2K</td>\n",
       "      <td>Chord Overstreet</td>\n",
       "      <td>Hold On</td>\n",
       "      <td>Hold On</td>\n",
       "      <td>82</td>\n",
       "      <td>198853</td>\n",
       "      <td>False</td>\n",
       "      <td>0.618</td>\n",
       "      <td>0.4430</td>\n",
       "      <td>2</td>\n",
       "      <td>-9.681</td>\n",
       "      <td>1</td>\n",
       "      <td>0.0526</td>\n",
       "      <td>0.4690</td>\n",
       "      <td>0.000000</td>\n",
       "      <td>0.0829</td>\n",
       "      <td>0.167</td>\n",
       "      <td>119.949</td>\n",
       "      <td>4</td>\n",
       "      <td>acoustic</td>\n",
       "    </tr>\n",
       "  </tbody>\n",
       "</table>\n",
       "</div>"
      ],
      "text/plain": [
       "                 track_id                 artists  \\\n",
       "0  5SuOikwiRyPMVoIQDJUgSV             Gen Hoshino   \n",
       "1  4qPNDBW1i3p13qLCt0Ki3A            Ben Woodward   \n",
       "2  1iJBSr7s7jYXzM8EGcbK5b  Ingrid Michaelson;ZAYN   \n",
       "3  6lfxq3CG4xtTiEg7opyCyx            Kina Grannis   \n",
       "4  5vjLSffimiIP26QG5WcN2K        Chord Overstreet   \n",
       "\n",
       "                                          album_name  \\\n",
       "0                                             Comedy   \n",
       "1                                   Ghost (Acoustic)   \n",
       "2                                     To Begin Again   \n",
       "3  Crazy Rich Asians (Original Motion Picture Sou...   \n",
       "4                                            Hold On   \n",
       "\n",
       "                   track_name  popularity  duration_ms  explicit  \\\n",
       "0                      Comedy          73       230666     False   \n",
       "1            Ghost - Acoustic          55       149610     False   \n",
       "2              To Begin Again          57       210826     False   \n",
       "3  Can't Help Falling In Love          71       201933     False   \n",
       "4                     Hold On          82       198853     False   \n",
       "\n",
       "   danceability  energy  key  loudness  mode  speechiness  acousticness  \\\n",
       "0         0.676  0.4610    1    -6.746     0       0.1430        0.0322   \n",
       "1         0.420  0.1660    1   -17.235     1       0.0763        0.9240   \n",
       "2         0.438  0.3590    0    -9.734     1       0.0557        0.2100   \n",
       "3         0.266  0.0596    0   -18.515     1       0.0363        0.9050   \n",
       "4         0.618  0.4430    2    -9.681     1       0.0526        0.4690   \n",
       "\n",
       "   instrumentalness  liveness  valence    tempo  time_signature track_genre  \n",
       "0          0.000001    0.3580    0.715   87.917               4    acoustic  \n",
       "1          0.000006    0.1010    0.267   77.489               4    acoustic  \n",
       "2          0.000000    0.1170    0.120   76.332               4    acoustic  \n",
       "3          0.000071    0.1320    0.143  181.740               3    acoustic  \n",
       "4          0.000000    0.0829    0.167  119.949               4    acoustic  "
      ]
     },
     "execution_count": 2,
     "metadata": {},
     "output_type": "execute_result"
    }
   ],
   "source": [
    "df = pd.read_csv(\"spotify_dataset.csv\", index_col=0)\n",
    "df.head()"
   ]
  },
  {
   "cell_type": "markdown",
   "id": "2374a7e3",
   "metadata": {},
   "source": [
    "#### Пропуски"
   ]
  },
  {
   "cell_type": "code",
   "execution_count": 3,
   "id": "1478e44b",
   "metadata": {},
   "outputs": [
    {
     "name": "stdout",
     "output_type": "stream",
     "text": [
      "<class 'pandas.core.frame.DataFrame'>\n",
      "Index: 114000 entries, 0 to 113999\n",
      "Data columns (total 20 columns):\n",
      " #   Column            Non-Null Count   Dtype  \n",
      "---  ------            --------------   -----  \n",
      " 0   track_id          114000 non-null  object \n",
      " 1   artists           113999 non-null  object \n",
      " 2   album_name        113999 non-null  object \n",
      " 3   track_name        113999 non-null  object \n",
      " 4   popularity        114000 non-null  int64  \n",
      " 5   duration_ms       114000 non-null  int64  \n",
      " 6   explicit          114000 non-null  bool   \n",
      " 7   danceability      114000 non-null  float64\n",
      " 8   energy            114000 non-null  float64\n",
      " 9   key               114000 non-null  int64  \n",
      " 10  loudness          114000 non-null  float64\n",
      " 11  mode              114000 non-null  int64  \n",
      " 12  speechiness       114000 non-null  float64\n",
      " 13  acousticness      114000 non-null  float64\n",
      " 14  instrumentalness  114000 non-null  float64\n",
      " 15  liveness          114000 non-null  float64\n",
      " 16  valence           114000 non-null  float64\n",
      " 17  tempo             114000 non-null  float64\n",
      " 18  time_signature    114000 non-null  int64  \n",
      " 19  track_genre       114000 non-null  object \n",
      "dtypes: bool(1), float64(9), int64(5), object(5)\n",
      "memory usage: 17.5+ MB\n"
     ]
    }
   ],
   "source": [
    "df.info()"
   ]
  },
  {
   "cell_type": "code",
   "execution_count": 4,
   "id": "e347049e",
   "metadata": {},
   "outputs": [
    {
     "data": {
      "application/vnd.microsoft.datawrangler.viewer.v0+json": {
       "columns": [
        {
         "name": "index",
         "rawType": "int64",
         "type": "integer"
        },
        {
         "name": "track_id",
         "rawType": "object",
         "type": "string"
        },
        {
         "name": "artists",
         "rawType": "object",
         "type": "unknown"
        },
        {
         "name": "album_name",
         "rawType": "object",
         "type": "unknown"
        },
        {
         "name": "track_name",
         "rawType": "object",
         "type": "unknown"
        },
        {
         "name": "popularity",
         "rawType": "int64",
         "type": "integer"
        },
        {
         "name": "duration_ms",
         "rawType": "int64",
         "type": "integer"
        },
        {
         "name": "explicit",
         "rawType": "bool",
         "type": "boolean"
        },
        {
         "name": "danceability",
         "rawType": "float64",
         "type": "float"
        },
        {
         "name": "energy",
         "rawType": "float64",
         "type": "float"
        },
        {
         "name": "key",
         "rawType": "int64",
         "type": "integer"
        },
        {
         "name": "loudness",
         "rawType": "float64",
         "type": "float"
        },
        {
         "name": "mode",
         "rawType": "int64",
         "type": "integer"
        },
        {
         "name": "speechiness",
         "rawType": "float64",
         "type": "float"
        },
        {
         "name": "acousticness",
         "rawType": "float64",
         "type": "float"
        },
        {
         "name": "instrumentalness",
         "rawType": "float64",
         "type": "float"
        },
        {
         "name": "liveness",
         "rawType": "float64",
         "type": "float"
        },
        {
         "name": "valence",
         "rawType": "float64",
         "type": "float"
        },
        {
         "name": "tempo",
         "rawType": "float64",
         "type": "float"
        },
        {
         "name": "time_signature",
         "rawType": "int64",
         "type": "integer"
        },
        {
         "name": "track_genre",
         "rawType": "object",
         "type": "string"
        }
       ],
       "ref": "3d7411dd-075e-4db2-984f-b146d57c2039",
       "rows": [
        [
         "65900",
         "1kR4gIb7nGxHPI3D2ifs59",
         null,
         null,
         null,
         "0",
         "0",
         "False",
         "0.501",
         "0.583",
         "7",
         "-9.46",
         "0",
         "0.0605",
         "0.69",
         "0.00396",
         "0.0747",
         "0.734",
         "138.391",
         "4",
         "k-pop"
        ]
       ],
       "shape": {
        "columns": 20,
        "rows": 1
       }
      },
      "text/html": [
       "<div>\n",
       "<style scoped>\n",
       "    .dataframe tbody tr th:only-of-type {\n",
       "        vertical-align: middle;\n",
       "    }\n",
       "\n",
       "    .dataframe tbody tr th {\n",
       "        vertical-align: top;\n",
       "    }\n",
       "\n",
       "    .dataframe thead th {\n",
       "        text-align: right;\n",
       "    }\n",
       "</style>\n",
       "<table border=\"1\" class=\"dataframe\">\n",
       "  <thead>\n",
       "    <tr style=\"text-align: right;\">\n",
       "      <th></th>\n",
       "      <th>track_id</th>\n",
       "      <th>artists</th>\n",
       "      <th>album_name</th>\n",
       "      <th>track_name</th>\n",
       "      <th>popularity</th>\n",
       "      <th>duration_ms</th>\n",
       "      <th>explicit</th>\n",
       "      <th>danceability</th>\n",
       "      <th>energy</th>\n",
       "      <th>key</th>\n",
       "      <th>loudness</th>\n",
       "      <th>mode</th>\n",
       "      <th>speechiness</th>\n",
       "      <th>acousticness</th>\n",
       "      <th>instrumentalness</th>\n",
       "      <th>liveness</th>\n",
       "      <th>valence</th>\n",
       "      <th>tempo</th>\n",
       "      <th>time_signature</th>\n",
       "      <th>track_genre</th>\n",
       "    </tr>\n",
       "  </thead>\n",
       "  <tbody>\n",
       "    <tr>\n",
       "      <th>65900</th>\n",
       "      <td>1kR4gIb7nGxHPI3D2ifs59</td>\n",
       "      <td>NaN</td>\n",
       "      <td>NaN</td>\n",
       "      <td>NaN</td>\n",
       "      <td>0</td>\n",
       "      <td>0</td>\n",
       "      <td>False</td>\n",
       "      <td>0.501</td>\n",
       "      <td>0.583</td>\n",
       "      <td>7</td>\n",
       "      <td>-9.46</td>\n",
       "      <td>0</td>\n",
       "      <td>0.0605</td>\n",
       "      <td>0.69</td>\n",
       "      <td>0.00396</td>\n",
       "      <td>0.0747</td>\n",
       "      <td>0.734</td>\n",
       "      <td>138.391</td>\n",
       "      <td>4</td>\n",
       "      <td>k-pop</td>\n",
       "    </tr>\n",
       "  </tbody>\n",
       "</table>\n",
       "</div>"
      ],
      "text/plain": [
       "                     track_id artists album_name track_name  popularity  \\\n",
       "65900  1kR4gIb7nGxHPI3D2ifs59     NaN        NaN        NaN           0   \n",
       "\n",
       "       duration_ms  explicit  danceability  energy  key  loudness  mode  \\\n",
       "65900            0     False         0.501   0.583    7     -9.46     0   \n",
       "\n",
       "       speechiness  acousticness  instrumentalness  liveness  valence  \\\n",
       "65900       0.0605          0.69           0.00396    0.0747    0.734   \n",
       "\n",
       "         tempo  time_signature track_genre  \n",
       "65900  138.391               4       k-pop  "
      ]
     },
     "execution_count": 4,
     "metadata": {},
     "output_type": "execute_result"
    }
   ],
   "source": [
    "df.loc[df.isna().sum(axis=1) > 0]"
   ]
  },
  {
   "cell_type": "markdown",
   "id": "40234d79",
   "metadata": {},
   "source": [
    "Так как в датасете только одна строка с пропущенными значениями, её можно удалить"
   ]
  },
  {
   "cell_type": "code",
   "execution_count": 5,
   "id": "b2327388",
   "metadata": {},
   "outputs": [
    {
     "data": {
      "text/plain": [
       "113999"
      ]
     },
     "execution_count": 5,
     "metadata": {},
     "output_type": "execute_result"
    }
   ],
   "source": [
    "df = df.dropna(how='any')\n",
    "len(df)"
   ]
  },
  {
   "cell_type": "markdown",
   "id": "295a4e6a",
   "metadata": {},
   "source": [
    "#### Дубликаты"
   ]
  },
  {
   "cell_type": "code",
   "execution_count": 6,
   "id": "82647348",
   "metadata": {},
   "outputs": [
    {
     "data": {
      "application/vnd.microsoft.datawrangler.viewer.v0+json": {
       "columns": [
        {
         "name": "track_id",
         "rawType": "object",
         "type": "string"
        },
        {
         "name": "count",
         "rawType": "int64",
         "type": "integer"
        }
       ],
       "ref": "d41d7940-456a-45d1-ac4e-457d7149fc38",
       "rows": [
        [
         "6S3JlDAGk3uu3NtZbPnuhS",
         "9"
        ],
        [
         "2Ey6v4Sekh3Z0RUSISRosD",
         "8"
        ],
        [
         "2kkvB3RNRzwjFdGhaUA0tz",
         "8"
        ],
        [
         "08kTa3SL9sV6Iy8KLKtGql",
         "7"
        ],
        [
         "4XYieGKSlJlHpzB3bl6WMP",
         "7"
        ],
        [
         "5ZsAhuQ24mWHiduaxJqnhW",
         "7"
        ],
        [
         "0YLSjVxSb5FT1Bo8Tnxr8j",
         "7"
        ],
        [
         "4WJTKbNJQ41zXnb84jSWaj",
         "7"
        ],
        [
         "2aaClnypAakdAmLw74JXxB",
         "7"
        ],
        [
         "2vU6bm5hVF2idVknGzqyPL",
         "7"
        ]
       ],
       "shape": {
        "columns": 1,
        "rows": 10
       }
      },
      "text/plain": [
       "track_id\n",
       "6S3JlDAGk3uu3NtZbPnuhS    9\n",
       "2Ey6v4Sekh3Z0RUSISRosD    8\n",
       "2kkvB3RNRzwjFdGhaUA0tz    8\n",
       "08kTa3SL9sV6Iy8KLKtGql    7\n",
       "4XYieGKSlJlHpzB3bl6WMP    7\n",
       "5ZsAhuQ24mWHiduaxJqnhW    7\n",
       "0YLSjVxSb5FT1Bo8Tnxr8j    7\n",
       "4WJTKbNJQ41zXnb84jSWaj    7\n",
       "2aaClnypAakdAmLw74JXxB    7\n",
       "2vU6bm5hVF2idVknGzqyPL    7\n",
       "Name: count, dtype: int64"
      ]
     },
     "execution_count": 6,
     "metadata": {},
     "output_type": "execute_result"
    }
   ],
   "source": [
    "df['track_id'].value_counts()[:10]"
   ]
  },
  {
   "cell_type": "code",
   "execution_count": 7,
   "id": "8ead84f4",
   "metadata": {},
   "outputs": [
    {
     "data": {
      "application/vnd.microsoft.datawrangler.viewer.v0+json": {
       "columns": [
        {
         "name": "index",
         "rawType": "int64",
         "type": "integer"
        },
        {
         "name": "track_id",
         "rawType": "object",
         "type": "string"
        },
        {
         "name": "artists",
         "rawType": "object",
         "type": "string"
        },
        {
         "name": "album_name",
         "rawType": "object",
         "type": "string"
        },
        {
         "name": "track_name",
         "rawType": "object",
         "type": "string"
        },
        {
         "name": "popularity",
         "rawType": "int64",
         "type": "integer"
        },
        {
         "name": "duration_ms",
         "rawType": "int64",
         "type": "integer"
        },
        {
         "name": "explicit",
         "rawType": "bool",
         "type": "boolean"
        },
        {
         "name": "danceability",
         "rawType": "float64",
         "type": "float"
        },
        {
         "name": "energy",
         "rawType": "float64",
         "type": "float"
        },
        {
         "name": "key",
         "rawType": "int64",
         "type": "integer"
        },
        {
         "name": "loudness",
         "rawType": "float64",
         "type": "float"
        },
        {
         "name": "mode",
         "rawType": "int64",
         "type": "integer"
        },
        {
         "name": "speechiness",
         "rawType": "float64",
         "type": "float"
        },
        {
         "name": "acousticness",
         "rawType": "float64",
         "type": "float"
        },
        {
         "name": "instrumentalness",
         "rawType": "float64",
         "type": "float"
        },
        {
         "name": "liveness",
         "rawType": "float64",
         "type": "float"
        },
        {
         "name": "valence",
         "rawType": "float64",
         "type": "float"
        },
        {
         "name": "tempo",
         "rawType": "float64",
         "type": "float"
        },
        {
         "name": "time_signature",
         "rawType": "int64",
         "type": "integer"
        },
        {
         "name": "track_genre",
         "rawType": "object",
         "type": "string"
        }
       ],
       "ref": "5450dda8-981e-495a-9bf8-bef8fb98b3c8",
       "rows": [
        [
         "2988",
         "2aaClnypAakdAmLw74JXxB",
         "Sepultura",
         "Metal",
         "Arise",
         "0",
         "198226",
         "False",
         "0.371",
         "0.961",
         "9",
         "-6.765",
         "0",
         "0.0931",
         "1.52e-05",
         "0.0548",
         "0.0916",
         "0.159",
         "115.336",
         "4",
         "alt-rock"
        ],
        [
         "9372",
         "2aaClnypAakdAmLw74JXxB",
         "Sepultura",
         "Metal",
         "Arise",
         "0",
         "198226",
         "False",
         "0.371",
         "0.961",
         "9",
         "-6.765",
         "0",
         "0.0931",
         "1.52e-05",
         "0.0548",
         "0.0916",
         "0.159",
         "115.336",
         "4",
         "brazil"
        ],
        [
         "22034",
         "2aaClnypAakdAmLw74JXxB",
         "Sepultura",
         "Metal",
         "Arise",
         "0",
         "198226",
         "False",
         "0.371",
         "0.961",
         "9",
         "-6.765",
         "0",
         "0.0931",
         "1.52e-05",
         "0.0548",
         "0.0916",
         "0.159",
         "115.336",
         "4",
         "death-metal"
        ],
        [
         "43041",
         "2aaClnypAakdAmLw74JXxB",
         "Sepultura",
         "Metal",
         "Arise",
         "0",
         "198226",
         "False",
         "0.371",
         "0.961",
         "9",
         "-6.765",
         "0",
         "0.0931",
         "1.52e-05",
         "0.0548",
         "0.0916",
         "0.159",
         "115.336",
         "4",
         "groove"
        ],
        [
         "47341",
         "2aaClnypAakdAmLw74JXxB",
         "Sepultura",
         "Metal",
         "Arise",
         "0",
         "198226",
         "False",
         "0.371",
         "0.961",
         "9",
         "-6.765",
         "0",
         "0.0931",
         "1.52e-05",
         "0.0548",
         "0.0916",
         "0.159",
         "115.336",
         "4",
         "hard-rock"
        ],
        [
         "71344",
         "2aaClnypAakdAmLw74JXxB",
         "Sepultura",
         "Metal",
         "Arise",
         "0",
         "198226",
         "False",
         "0.371",
         "0.961",
         "9",
         "-6.765",
         "0",
         "0.0931",
         "1.52e-05",
         "0.0548",
         "0.0916",
         "0.159",
         "115.336",
         "4",
         "metal"
        ],
        [
         "87376",
         "2aaClnypAakdAmLw74JXxB",
         "Sepultura",
         "Metal",
         "Arise",
         "0",
         "198226",
         "False",
         "0.371",
         "0.961",
         "9",
         "-6.765",
         "0",
         "0.0931",
         "1.52e-05",
         "0.0548",
         "0.0916",
         "0.159",
         "115.336",
         "4",
         "r-n-b"
        ]
       ],
       "shape": {
        "columns": 20,
        "rows": 7
       }
      },
      "text/html": [
       "<div>\n",
       "<style scoped>\n",
       "    .dataframe tbody tr th:only-of-type {\n",
       "        vertical-align: middle;\n",
       "    }\n",
       "\n",
       "    .dataframe tbody tr th {\n",
       "        vertical-align: top;\n",
       "    }\n",
       "\n",
       "    .dataframe thead th {\n",
       "        text-align: right;\n",
       "    }\n",
       "</style>\n",
       "<table border=\"1\" class=\"dataframe\">\n",
       "  <thead>\n",
       "    <tr style=\"text-align: right;\">\n",
       "      <th></th>\n",
       "      <th>track_id</th>\n",
       "      <th>artists</th>\n",
       "      <th>album_name</th>\n",
       "      <th>track_name</th>\n",
       "      <th>popularity</th>\n",
       "      <th>duration_ms</th>\n",
       "      <th>explicit</th>\n",
       "      <th>danceability</th>\n",
       "      <th>energy</th>\n",
       "      <th>key</th>\n",
       "      <th>loudness</th>\n",
       "      <th>mode</th>\n",
       "      <th>speechiness</th>\n",
       "      <th>acousticness</th>\n",
       "      <th>instrumentalness</th>\n",
       "      <th>liveness</th>\n",
       "      <th>valence</th>\n",
       "      <th>tempo</th>\n",
       "      <th>time_signature</th>\n",
       "      <th>track_genre</th>\n",
       "    </tr>\n",
       "  </thead>\n",
       "  <tbody>\n",
       "    <tr>\n",
       "      <th>2988</th>\n",
       "      <td>2aaClnypAakdAmLw74JXxB</td>\n",
       "      <td>Sepultura</td>\n",
       "      <td>Metal</td>\n",
       "      <td>Arise</td>\n",
       "      <td>0</td>\n",
       "      <td>198226</td>\n",
       "      <td>False</td>\n",
       "      <td>0.371</td>\n",
       "      <td>0.961</td>\n",
       "      <td>9</td>\n",
       "      <td>-6.765</td>\n",
       "      <td>0</td>\n",
       "      <td>0.0931</td>\n",
       "      <td>0.000015</td>\n",
       "      <td>0.0548</td>\n",
       "      <td>0.0916</td>\n",
       "      <td>0.159</td>\n",
       "      <td>115.336</td>\n",
       "      <td>4</td>\n",
       "      <td>alt-rock</td>\n",
       "    </tr>\n",
       "    <tr>\n",
       "      <th>9372</th>\n",
       "      <td>2aaClnypAakdAmLw74JXxB</td>\n",
       "      <td>Sepultura</td>\n",
       "      <td>Metal</td>\n",
       "      <td>Arise</td>\n",
       "      <td>0</td>\n",
       "      <td>198226</td>\n",
       "      <td>False</td>\n",
       "      <td>0.371</td>\n",
       "      <td>0.961</td>\n",
       "      <td>9</td>\n",
       "      <td>-6.765</td>\n",
       "      <td>0</td>\n",
       "      <td>0.0931</td>\n",
       "      <td>0.000015</td>\n",
       "      <td>0.0548</td>\n",
       "      <td>0.0916</td>\n",
       "      <td>0.159</td>\n",
       "      <td>115.336</td>\n",
       "      <td>4</td>\n",
       "      <td>brazil</td>\n",
       "    </tr>\n",
       "    <tr>\n",
       "      <th>22034</th>\n",
       "      <td>2aaClnypAakdAmLw74JXxB</td>\n",
       "      <td>Sepultura</td>\n",
       "      <td>Metal</td>\n",
       "      <td>Arise</td>\n",
       "      <td>0</td>\n",
       "      <td>198226</td>\n",
       "      <td>False</td>\n",
       "      <td>0.371</td>\n",
       "      <td>0.961</td>\n",
       "      <td>9</td>\n",
       "      <td>-6.765</td>\n",
       "      <td>0</td>\n",
       "      <td>0.0931</td>\n",
       "      <td>0.000015</td>\n",
       "      <td>0.0548</td>\n",
       "      <td>0.0916</td>\n",
       "      <td>0.159</td>\n",
       "      <td>115.336</td>\n",
       "      <td>4</td>\n",
       "      <td>death-metal</td>\n",
       "    </tr>\n",
       "    <tr>\n",
       "      <th>43041</th>\n",
       "      <td>2aaClnypAakdAmLw74JXxB</td>\n",
       "      <td>Sepultura</td>\n",
       "      <td>Metal</td>\n",
       "      <td>Arise</td>\n",
       "      <td>0</td>\n",
       "      <td>198226</td>\n",
       "      <td>False</td>\n",
       "      <td>0.371</td>\n",
       "      <td>0.961</td>\n",
       "      <td>9</td>\n",
       "      <td>-6.765</td>\n",
       "      <td>0</td>\n",
       "      <td>0.0931</td>\n",
       "      <td>0.000015</td>\n",
       "      <td>0.0548</td>\n",
       "      <td>0.0916</td>\n",
       "      <td>0.159</td>\n",
       "      <td>115.336</td>\n",
       "      <td>4</td>\n",
       "      <td>groove</td>\n",
       "    </tr>\n",
       "    <tr>\n",
       "      <th>47341</th>\n",
       "      <td>2aaClnypAakdAmLw74JXxB</td>\n",
       "      <td>Sepultura</td>\n",
       "      <td>Metal</td>\n",
       "      <td>Arise</td>\n",
       "      <td>0</td>\n",
       "      <td>198226</td>\n",
       "      <td>False</td>\n",
       "      <td>0.371</td>\n",
       "      <td>0.961</td>\n",
       "      <td>9</td>\n",
       "      <td>-6.765</td>\n",
       "      <td>0</td>\n",
       "      <td>0.0931</td>\n",
       "      <td>0.000015</td>\n",
       "      <td>0.0548</td>\n",
       "      <td>0.0916</td>\n",
       "      <td>0.159</td>\n",
       "      <td>115.336</td>\n",
       "      <td>4</td>\n",
       "      <td>hard-rock</td>\n",
       "    </tr>\n",
       "    <tr>\n",
       "      <th>71344</th>\n",
       "      <td>2aaClnypAakdAmLw74JXxB</td>\n",
       "      <td>Sepultura</td>\n",
       "      <td>Metal</td>\n",
       "      <td>Arise</td>\n",
       "      <td>0</td>\n",
       "      <td>198226</td>\n",
       "      <td>False</td>\n",
       "      <td>0.371</td>\n",
       "      <td>0.961</td>\n",
       "      <td>9</td>\n",
       "      <td>-6.765</td>\n",
       "      <td>0</td>\n",
       "      <td>0.0931</td>\n",
       "      <td>0.000015</td>\n",
       "      <td>0.0548</td>\n",
       "      <td>0.0916</td>\n",
       "      <td>0.159</td>\n",
       "      <td>115.336</td>\n",
       "      <td>4</td>\n",
       "      <td>metal</td>\n",
       "    </tr>\n",
       "    <tr>\n",
       "      <th>87376</th>\n",
       "      <td>2aaClnypAakdAmLw74JXxB</td>\n",
       "      <td>Sepultura</td>\n",
       "      <td>Metal</td>\n",
       "      <td>Arise</td>\n",
       "      <td>0</td>\n",
       "      <td>198226</td>\n",
       "      <td>False</td>\n",
       "      <td>0.371</td>\n",
       "      <td>0.961</td>\n",
       "      <td>9</td>\n",
       "      <td>-6.765</td>\n",
       "      <td>0</td>\n",
       "      <td>0.0931</td>\n",
       "      <td>0.000015</td>\n",
       "      <td>0.0548</td>\n",
       "      <td>0.0916</td>\n",
       "      <td>0.159</td>\n",
       "      <td>115.336</td>\n",
       "      <td>4</td>\n",
       "      <td>r-n-b</td>\n",
       "    </tr>\n",
       "  </tbody>\n",
       "</table>\n",
       "</div>"
      ],
      "text/plain": [
       "                     track_id    artists album_name track_name  popularity  \\\n",
       "2988   2aaClnypAakdAmLw74JXxB  Sepultura      Metal      Arise           0   \n",
       "9372   2aaClnypAakdAmLw74JXxB  Sepultura      Metal      Arise           0   \n",
       "22034  2aaClnypAakdAmLw74JXxB  Sepultura      Metal      Arise           0   \n",
       "43041  2aaClnypAakdAmLw74JXxB  Sepultura      Metal      Arise           0   \n",
       "47341  2aaClnypAakdAmLw74JXxB  Sepultura      Metal      Arise           0   \n",
       "71344  2aaClnypAakdAmLw74JXxB  Sepultura      Metal      Arise           0   \n",
       "87376  2aaClnypAakdAmLw74JXxB  Sepultura      Metal      Arise           0   \n",
       "\n",
       "       duration_ms  explicit  danceability  energy  key  loudness  mode  \\\n",
       "2988        198226     False         0.371   0.961    9    -6.765     0   \n",
       "9372        198226     False         0.371   0.961    9    -6.765     0   \n",
       "22034       198226     False         0.371   0.961    9    -6.765     0   \n",
       "43041       198226     False         0.371   0.961    9    -6.765     0   \n",
       "47341       198226     False         0.371   0.961    9    -6.765     0   \n",
       "71344       198226     False         0.371   0.961    9    -6.765     0   \n",
       "87376       198226     False         0.371   0.961    9    -6.765     0   \n",
       "\n",
       "       speechiness  acousticness  instrumentalness  liveness  valence  \\\n",
       "2988        0.0931      0.000015            0.0548    0.0916    0.159   \n",
       "9372        0.0931      0.000015            0.0548    0.0916    0.159   \n",
       "22034       0.0931      0.000015            0.0548    0.0916    0.159   \n",
       "43041       0.0931      0.000015            0.0548    0.0916    0.159   \n",
       "47341       0.0931      0.000015            0.0548    0.0916    0.159   \n",
       "71344       0.0931      0.000015            0.0548    0.0916    0.159   \n",
       "87376       0.0931      0.000015            0.0548    0.0916    0.159   \n",
       "\n",
       "         tempo  time_signature  track_genre  \n",
       "2988   115.336               4     alt-rock  \n",
       "9372   115.336               4       brazil  \n",
       "22034  115.336               4  death-metal  \n",
       "43041  115.336               4       groove  \n",
       "47341  115.336               4    hard-rock  \n",
       "71344  115.336               4        metal  \n",
       "87376  115.336               4        r-n-b  "
      ]
     },
     "execution_count": 7,
     "metadata": {},
     "output_type": "execute_result"
    }
   ],
   "source": [
    "df[df['track_id'] == \"2aaClnypAakdAmLw74JXxB\"]"
   ]
  },
  {
   "cell_type": "code",
   "execution_count": 8,
   "id": "750d4b55",
   "metadata": {},
   "outputs": [
    {
     "data": {
      "text/plain": [
       "array([1000,  999], dtype=int64)"
      ]
     },
     "execution_count": 8,
     "metadata": {},
     "output_type": "execute_result"
    }
   ],
   "source": [
    "df['track_genre'].value_counts().unique()"
   ]
  },
  {
   "cell_type": "markdown",
   "id": "f2ef077b",
   "metadata": {},
   "source": [
    "Если у трэка несколько жанров - в датасете несколько строк.\n",
    "\n",
    "Причём представителей каждого жанра ровно 1000."
   ]
  },
  {
   "cell_type": "markdown",
   "id": "dc1f9f6b",
   "metadata": {},
   "source": [
    "Потому можно временно отделить жанры от датасета через связь many-to-many (aka нормализация БД) "
   ]
  },
  {
   "cell_type": "code",
   "execution_count": 9,
   "id": "741470f6",
   "metadata": {},
   "outputs": [
    {
     "data": {
      "application/vnd.microsoft.datawrangler.viewer.v0+json": {
       "columns": [
        {
         "name": "index",
         "rawType": "int64",
         "type": "integer"
        },
        {
         "name": "genre",
         "rawType": "object",
         "type": "string"
        }
       ],
       "ref": "d2906da8-8d94-4cda-bc7f-eca2cb67c193",
       "rows": [
        [
         "0",
         "acoustic"
        ],
        [
         "1",
         "afrobeat"
        ],
        [
         "2",
         "alt-rock"
        ],
        [
         "3",
         "alternative"
        ],
        [
         "4",
         "ambient"
        ],
        [
         "5",
         "anime"
        ],
        [
         "6",
         "black-metal"
        ],
        [
         "7",
         "bluegrass"
        ],
        [
         "8",
         "blues"
        ],
        [
         "9",
         "brazil"
        ],
        [
         "10",
         "breakbeat"
        ],
        [
         "11",
         "british"
        ],
        [
         "12",
         "cantopop"
        ],
        [
         "13",
         "chicago-house"
        ],
        [
         "14",
         "children"
        ],
        [
         "15",
         "chill"
        ],
        [
         "16",
         "classical"
        ],
        [
         "17",
         "club"
        ],
        [
         "18",
         "comedy"
        ],
        [
         "19",
         "country"
        ],
        [
         "20",
         "dance"
        ],
        [
         "21",
         "dancehall"
        ],
        [
         "22",
         "death-metal"
        ],
        [
         "23",
         "deep-house"
        ],
        [
         "24",
         "detroit-techno"
        ],
        [
         "25",
         "disco"
        ],
        [
         "26",
         "disney"
        ],
        [
         "27",
         "drum-and-bass"
        ],
        [
         "28",
         "dub"
        ],
        [
         "29",
         "dubstep"
        ],
        [
         "30",
         "edm"
        ],
        [
         "31",
         "electro"
        ],
        [
         "32",
         "electronic"
        ],
        [
         "33",
         "emo"
        ],
        [
         "34",
         "folk"
        ],
        [
         "35",
         "forro"
        ],
        [
         "36",
         "french"
        ],
        [
         "37",
         "funk"
        ],
        [
         "38",
         "garage"
        ],
        [
         "39",
         "german"
        ],
        [
         "40",
         "gospel"
        ],
        [
         "41",
         "goth"
        ],
        [
         "42",
         "grindcore"
        ],
        [
         "43",
         "groove"
        ],
        [
         "44",
         "grunge"
        ],
        [
         "45",
         "guitar"
        ],
        [
         "46",
         "happy"
        ],
        [
         "47",
         "hard-rock"
        ],
        [
         "48",
         "hardcore"
        ],
        [
         "49",
         "hardstyle"
        ]
       ],
       "shape": {
        "columns": 1,
        "rows": 114
       }
      },
      "text/html": [
       "<div>\n",
       "<style scoped>\n",
       "    .dataframe tbody tr th:only-of-type {\n",
       "        vertical-align: middle;\n",
       "    }\n",
       "\n",
       "    .dataframe tbody tr th {\n",
       "        vertical-align: top;\n",
       "    }\n",
       "\n",
       "    .dataframe thead th {\n",
       "        text-align: right;\n",
       "    }\n",
       "</style>\n",
       "<table border=\"1\" class=\"dataframe\">\n",
       "  <thead>\n",
       "    <tr style=\"text-align: right;\">\n",
       "      <th></th>\n",
       "      <th>genre</th>\n",
       "    </tr>\n",
       "  </thead>\n",
       "  <tbody>\n",
       "    <tr>\n",
       "      <th>0</th>\n",
       "      <td>acoustic</td>\n",
       "    </tr>\n",
       "    <tr>\n",
       "      <th>1</th>\n",
       "      <td>afrobeat</td>\n",
       "    </tr>\n",
       "    <tr>\n",
       "      <th>2</th>\n",
       "      <td>alt-rock</td>\n",
       "    </tr>\n",
       "    <tr>\n",
       "      <th>3</th>\n",
       "      <td>alternative</td>\n",
       "    </tr>\n",
       "    <tr>\n",
       "      <th>4</th>\n",
       "      <td>ambient</td>\n",
       "    </tr>\n",
       "    <tr>\n",
       "      <th>...</th>\n",
       "      <td>...</td>\n",
       "    </tr>\n",
       "    <tr>\n",
       "      <th>109</th>\n",
       "      <td>techno</td>\n",
       "    </tr>\n",
       "    <tr>\n",
       "      <th>110</th>\n",
       "      <td>trance</td>\n",
       "    </tr>\n",
       "    <tr>\n",
       "      <th>111</th>\n",
       "      <td>trip-hop</td>\n",
       "    </tr>\n",
       "    <tr>\n",
       "      <th>112</th>\n",
       "      <td>turkish</td>\n",
       "    </tr>\n",
       "    <tr>\n",
       "      <th>113</th>\n",
       "      <td>world-music</td>\n",
       "    </tr>\n",
       "  </tbody>\n",
       "</table>\n",
       "<p>114 rows × 1 columns</p>\n",
       "</div>"
      ],
      "text/plain": [
       "           genre\n",
       "0       acoustic\n",
       "1       afrobeat\n",
       "2       alt-rock\n",
       "3    alternative\n",
       "4        ambient\n",
       "..           ...\n",
       "109       techno\n",
       "110       trance\n",
       "111     trip-hop\n",
       "112      turkish\n",
       "113  world-music\n",
       "\n",
       "[114 rows x 1 columns]"
      ]
     },
     "execution_count": 9,
     "metadata": {},
     "output_type": "execute_result"
    }
   ],
   "source": [
    "genres_df = pd.DataFrame({\"genre\": df['track_genre'].unique()})\n",
    "genres_df "
   ]
  },
  {
   "cell_type": "code",
   "execution_count": 10,
   "id": "a4e69e21",
   "metadata": {},
   "outputs": [
    {
     "name": "stderr",
     "output_type": "stream",
     "text": [
      "C:\\Users\\Jrytoeku Qtuhtc\\AppData\\Local\\Temp\\ipykernel_13184\\174954502.py:2: SettingWithCopyWarning: \n",
      "A value is trying to be set on a copy of a slice from a DataFrame.\n",
      "Try using .loc[row_indexer,col_indexer] = value instead\n",
      "\n",
      "See the caveats in the documentation: https://pandas.pydata.org/pandas-docs/stable/user_guide/indexing.html#returning-a-view-versus-a-copy\n",
      "  track_genre_df['track_genre'] = track_genre_df['track_genre'].apply(lambda x: genres_df[genres_df['genre'] == x].index[0])\n"
     ]
    },
    {
     "data": {
      "application/vnd.microsoft.datawrangler.viewer.v0+json": {
       "columns": [
        {
         "name": "index",
         "rawType": "int64",
         "type": "integer"
        },
        {
         "name": "track_id",
         "rawType": "object",
         "type": "string"
        },
        {
         "name": "track_genre",
         "rawType": "int64",
         "type": "integer"
        }
       ],
       "ref": "b3875598-c128-4528-bf5a-b1932a34aea0",
       "rows": [
        [
         "0",
         "5SuOikwiRyPMVoIQDJUgSV",
         "0"
        ],
        [
         "1",
         "4qPNDBW1i3p13qLCt0Ki3A",
         "0"
        ],
        [
         "2",
         "1iJBSr7s7jYXzM8EGcbK5b",
         "0"
        ],
        [
         "3",
         "6lfxq3CG4xtTiEg7opyCyx",
         "0"
        ],
        [
         "4",
         "5vjLSffimiIP26QG5WcN2K",
         "0"
        ],
        [
         "5",
         "01MVOl9KtVTNfFiBU9I7dc",
         "0"
        ],
        [
         "6",
         "6Vc5wAMmXdKIAM7WUoEb7N",
         "0"
        ],
        [
         "7",
         "1EzrEOXmMH3G43AXT1y7pA",
         "0"
        ],
        [
         "8",
         "0IktbUcnAGrvD03AWnz3Q8",
         "0"
        ],
        [
         "9",
         "7k9GuJYLp2AzqokyEdwEw2",
         "0"
        ],
        [
         "10",
         "4mzP5mHkRvGxdhdGdAH7EJ",
         "0"
        ],
        [
         "11",
         "5ivF4eQBqJiVL5IAE9jRyl",
         "0"
        ],
        [
         "12",
         "4ptDJbJl35d7gQfeNteBwp",
         "0"
        ],
        [
         "13",
         "0X9MxHR1rTkEHDjp95F2OO",
         "0"
        ],
        [
         "14",
         "4LbWtBkN82ZRhz9jqzgrb3",
         "0"
        ],
        [
         "15",
         "1KHdq8NK9QxnGjdXb55NiG",
         "0"
        ],
        [
         "16",
         "6xKeQgzfjixSUld14qUezm",
         "0"
        ],
        [
         "17",
         "4Yo0igmcoNyat1secaH0OD",
         "0"
        ],
        [
         "18",
         "2qLMf6TuEC3ruGJg4SMMN6",
         "0"
        ],
        [
         "19",
         "6CgNoAbFJ4Q4Id4EjtbXlC",
         "0"
        ],
        [
         "20",
         "3S0OXQeoh0w6AY8WQVckRW",
         "0"
        ],
        [
         "21",
         "210JCw2LbYD4YIs8GiZ9iP",
         "0"
        ],
        [
         "22",
         "5TvE3pk05pyFIGdSY9j4DJ",
         "0"
        ],
        [
         "23",
         "0BUuuEvNa5T4lMaewyiudB",
         "0"
        ],
        [
         "24",
         "3Hn3LfhrQOaKihdCibJsTs",
         "0"
        ],
        [
         "25",
         "6D33wCKzWtNEgOovgeVJ7r",
         "0"
        ],
        [
         "26",
         "5IfCZDRXZrqZSm8AwE44PG",
         "0"
        ],
        [
         "27",
         "0dzKBptH2P5j5a0MifBMwM",
         "0"
        ],
        [
         "28",
         "5QAMZTM5cmLg3fHX9ZbTZi",
         "0"
        ],
        [
         "29",
         "2qESE1ZeWly7I3YjyTXmXh",
         "0"
        ],
        [
         "30",
         "3EQV1ZHtHvq9OnVRYIdbg3",
         "0"
        ],
        [
         "31",
         "3ax0rfGb7exLtl02LL08U9",
         "0"
        ],
        [
         "32",
         "1m5LC29RE52Bxy7hxvpOlL",
         "0"
        ],
        [
         "33",
         "3H36x7buZdQD4687VmFrwY",
         "0"
        ],
        [
         "34",
         "0xbMRcMFqxJq1Wa7tvWPtn",
         "0"
        ],
        [
         "35",
         "6h061f44HZPj1OXO2nA45d",
         "0"
        ],
        [
         "36",
         "62EwQLDw0dprDzuLwQ0sH1",
         "0"
        ],
        [
         "37",
         "3lvo0I8c2qBJDLZWqExDgC",
         "0"
        ],
        [
         "38",
         "1ae8XfBQ3fDEvmBjFaemGV",
         "0"
        ],
        [
         "39",
         "0adVktNVJXPZfhQe6B1NO5",
         "0"
        ],
        [
         "40",
         "6sp6Vx3sv2l5qxPfbQkcyt",
         "0"
        ],
        [
         "41",
         "1WFVfVjCtbmdIv7j3Fa9iy",
         "0"
        ],
        [
         "42",
         "0e5PAxSyZ5DWWVqKANHETz",
         "0"
        ],
        [
         "43",
         "1MLr9b1fOybO3MGiLy47Ys",
         "0"
        ],
        [
         "44",
         "6JGjevTaqr9J1xp7YvYUKF",
         "0"
        ],
        [
         "45",
         "7Af2YlwMZryKOQiRfwMsD2",
         "0"
        ],
        [
         "46",
         "3RE5nHIVkC4KcA7snFaTKd",
         "0"
        ],
        [
         "47",
         "0JvkNRyq8Tmot9khpdtN0I",
         "0"
        ],
        [
         "48",
         "27gHtbsHClwimHFtKgFop4",
         "0"
        ],
        [
         "49",
         "1QBNBGeIRRGBnLhdlHbfI8",
         "0"
        ]
       ],
       "shape": {
        "columns": 2,
        "rows": 113999
       }
      },
      "text/html": [
       "<div>\n",
       "<style scoped>\n",
       "    .dataframe tbody tr th:only-of-type {\n",
       "        vertical-align: middle;\n",
       "    }\n",
       "\n",
       "    .dataframe tbody tr th {\n",
       "        vertical-align: top;\n",
       "    }\n",
       "\n",
       "    .dataframe thead th {\n",
       "        text-align: right;\n",
       "    }\n",
       "</style>\n",
       "<table border=\"1\" class=\"dataframe\">\n",
       "  <thead>\n",
       "    <tr style=\"text-align: right;\">\n",
       "      <th></th>\n",
       "      <th>track_id</th>\n",
       "      <th>track_genre</th>\n",
       "    </tr>\n",
       "  </thead>\n",
       "  <tbody>\n",
       "    <tr>\n",
       "      <th>0</th>\n",
       "      <td>5SuOikwiRyPMVoIQDJUgSV</td>\n",
       "      <td>0</td>\n",
       "    </tr>\n",
       "    <tr>\n",
       "      <th>1</th>\n",
       "      <td>4qPNDBW1i3p13qLCt0Ki3A</td>\n",
       "      <td>0</td>\n",
       "    </tr>\n",
       "    <tr>\n",
       "      <th>2</th>\n",
       "      <td>1iJBSr7s7jYXzM8EGcbK5b</td>\n",
       "      <td>0</td>\n",
       "    </tr>\n",
       "    <tr>\n",
       "      <th>3</th>\n",
       "      <td>6lfxq3CG4xtTiEg7opyCyx</td>\n",
       "      <td>0</td>\n",
       "    </tr>\n",
       "    <tr>\n",
       "      <th>4</th>\n",
       "      <td>5vjLSffimiIP26QG5WcN2K</td>\n",
       "      <td>0</td>\n",
       "    </tr>\n",
       "    <tr>\n",
       "      <th>...</th>\n",
       "      <td>...</td>\n",
       "      <td>...</td>\n",
       "    </tr>\n",
       "    <tr>\n",
       "      <th>113995</th>\n",
       "      <td>2C3TZjDRiAzdyViavDJ217</td>\n",
       "      <td>113</td>\n",
       "    </tr>\n",
       "    <tr>\n",
       "      <th>113996</th>\n",
       "      <td>1hIz5L4IB9hN3WRYPOCGPw</td>\n",
       "      <td>113</td>\n",
       "    </tr>\n",
       "    <tr>\n",
       "      <th>113997</th>\n",
       "      <td>6x8ZfSoqDjuNa5SVP5QjvX</td>\n",
       "      <td>113</td>\n",
       "    </tr>\n",
       "    <tr>\n",
       "      <th>113998</th>\n",
       "      <td>2e6sXL2bYv4bSz6VTdnfLs</td>\n",
       "      <td>113</td>\n",
       "    </tr>\n",
       "    <tr>\n",
       "      <th>113999</th>\n",
       "      <td>2hETkH7cOfqmz3LqZDHZf5</td>\n",
       "      <td>113</td>\n",
       "    </tr>\n",
       "  </tbody>\n",
       "</table>\n",
       "<p>113999 rows × 2 columns</p>\n",
       "</div>"
      ],
      "text/plain": [
       "                      track_id  track_genre\n",
       "0       5SuOikwiRyPMVoIQDJUgSV            0\n",
       "1       4qPNDBW1i3p13qLCt0Ki3A            0\n",
       "2       1iJBSr7s7jYXzM8EGcbK5b            0\n",
       "3       6lfxq3CG4xtTiEg7opyCyx            0\n",
       "4       5vjLSffimiIP26QG5WcN2K            0\n",
       "...                        ...          ...\n",
       "113995  2C3TZjDRiAzdyViavDJ217          113\n",
       "113996  1hIz5L4IB9hN3WRYPOCGPw          113\n",
       "113997  6x8ZfSoqDjuNa5SVP5QjvX          113\n",
       "113998  2e6sXL2bYv4bSz6VTdnfLs          113\n",
       "113999  2hETkH7cOfqmz3LqZDHZf5          113\n",
       "\n",
       "[113999 rows x 2 columns]"
      ]
     },
     "execution_count": 10,
     "metadata": {},
     "output_type": "execute_result"
    }
   ],
   "source": [
    "track_genre_df = df[['track_id', 'track_genre']]\n",
    "track_genre_df['track_genre'] = track_genre_df['track_genre'].apply(lambda x: genres_df[genres_df['genre'] == x].index[0])\n",
    "track_genre_df"
   ]
  },
  {
   "cell_type": "code",
   "execution_count": 11,
   "id": "014902b6",
   "metadata": {},
   "outputs": [
    {
     "data": {
      "application/vnd.microsoft.datawrangler.viewer.v0+json": {
       "columns": [
        {
         "name": "index",
         "rawType": "int64",
         "type": "integer"
        },
        {
         "name": "track_id",
         "rawType": "object",
         "type": "string"
        },
        {
         "name": "artists",
         "rawType": "object",
         "type": "string"
        },
        {
         "name": "album_name",
         "rawType": "object",
         "type": "string"
        },
        {
         "name": "track_name",
         "rawType": "object",
         "type": "string"
        },
        {
         "name": "popularity",
         "rawType": "int64",
         "type": "integer"
        },
        {
         "name": "duration_ms",
         "rawType": "int64",
         "type": "integer"
        },
        {
         "name": "explicit",
         "rawType": "bool",
         "type": "boolean"
        },
        {
         "name": "danceability",
         "rawType": "float64",
         "type": "float"
        },
        {
         "name": "energy",
         "rawType": "float64",
         "type": "float"
        },
        {
         "name": "key",
         "rawType": "int64",
         "type": "integer"
        },
        {
         "name": "loudness",
         "rawType": "float64",
         "type": "float"
        },
        {
         "name": "mode",
         "rawType": "int64",
         "type": "integer"
        },
        {
         "name": "speechiness",
         "rawType": "float64",
         "type": "float"
        },
        {
         "name": "acousticness",
         "rawType": "float64",
         "type": "float"
        },
        {
         "name": "instrumentalness",
         "rawType": "float64",
         "type": "float"
        },
        {
         "name": "liveness",
         "rawType": "float64",
         "type": "float"
        },
        {
         "name": "valence",
         "rawType": "float64",
         "type": "float"
        },
        {
         "name": "tempo",
         "rawType": "float64",
         "type": "float"
        },
        {
         "name": "time_signature",
         "rawType": "int64",
         "type": "integer"
        }
       ],
       "ref": "7bdf1615-55f8-4f46-b13e-9034acb51742",
       "rows": [
        [
         "0",
         "5SuOikwiRyPMVoIQDJUgSV",
         "Gen Hoshino",
         "Comedy",
         "Comedy",
         "73",
         "230666",
         "False",
         "0.676",
         "0.461",
         "1",
         "-6.746",
         "0",
         "0.143",
         "0.0322",
         "1.01e-06",
         "0.358",
         "0.715",
         "87.917",
         "4"
        ],
        [
         "1",
         "4qPNDBW1i3p13qLCt0Ki3A",
         "Ben Woodward",
         "Ghost (Acoustic)",
         "Ghost - Acoustic",
         "55",
         "149610",
         "False",
         "0.42",
         "0.166",
         "1",
         "-17.235",
         "1",
         "0.0763",
         "0.924",
         "5.56e-06",
         "0.101",
         "0.267",
         "77.489",
         "4"
        ],
        [
         "2",
         "1iJBSr7s7jYXzM8EGcbK5b",
         "Ingrid Michaelson;ZAYN",
         "To Begin Again",
         "To Begin Again",
         "57",
         "210826",
         "False",
         "0.438",
         "0.359",
         "0",
         "-9.734",
         "1",
         "0.0557",
         "0.21",
         "0.0",
         "0.117",
         "0.12",
         "76.332",
         "4"
        ],
        [
         "3",
         "6lfxq3CG4xtTiEg7opyCyx",
         "Kina Grannis",
         "Crazy Rich Asians (Original Motion Picture Soundtrack)",
         "Can't Help Falling In Love",
         "71",
         "201933",
         "False",
         "0.266",
         "0.0596",
         "0",
         "-18.515",
         "1",
         "0.0363",
         "0.905",
         "7.07e-05",
         "0.132",
         "0.143",
         "181.74",
         "3"
        ],
        [
         "4",
         "5vjLSffimiIP26QG5WcN2K",
         "Chord Overstreet",
         "Hold On",
         "Hold On",
         "82",
         "198853",
         "False",
         "0.618",
         "0.443",
         "2",
         "-9.681",
         "1",
         "0.0526",
         "0.469",
         "0.0",
         "0.0829",
         "0.167",
         "119.949",
         "4"
        ],
        [
         "5",
         "01MVOl9KtVTNfFiBU9I7dc",
         "Tyrone Wells",
         "Days I Will Remember",
         "Days I Will Remember",
         "58",
         "214240",
         "False",
         "0.688",
         "0.481",
         "6",
         "-8.807",
         "1",
         "0.105",
         "0.289",
         "0.0",
         "0.189",
         "0.666",
         "98.017",
         "4"
        ],
        [
         "6",
         "6Vc5wAMmXdKIAM7WUoEb7N",
         "A Great Big World;Christina Aguilera",
         "Is There Anybody Out There?",
         "Say Something",
         "74",
         "229400",
         "False",
         "0.407",
         "0.147",
         "2",
         "-8.822",
         "1",
         "0.0355",
         "0.857",
         "2.89e-06",
         "0.0913",
         "0.0765",
         "141.284",
         "3"
        ],
        [
         "7",
         "1EzrEOXmMH3G43AXT1y7pA",
         "Jason Mraz",
         "We Sing. We Dance. We Steal Things.",
         "I'm Yours",
         "80",
         "242946",
         "False",
         "0.703",
         "0.444",
         "11",
         "-9.331",
         "1",
         "0.0417",
         "0.559",
         "0.0",
         "0.0973",
         "0.712",
         "150.96",
         "4"
        ],
        [
         "8",
         "0IktbUcnAGrvD03AWnz3Q8",
         "Jason Mraz;Colbie Caillat",
         "We Sing. We Dance. We Steal Things.",
         "Lucky",
         "74",
         "189613",
         "False",
         "0.625",
         "0.414",
         "0",
         "-8.7",
         "1",
         "0.0369",
         "0.294",
         "0.0",
         "0.151",
         "0.669",
         "130.088",
         "4"
        ],
        [
         "9",
         "7k9GuJYLp2AzqokyEdwEw2",
         "Ross Copperman",
         "Hunger",
         "Hunger",
         "56",
         "205594",
         "False",
         "0.442",
         "0.632",
         "1",
         "-6.77",
         "1",
         "0.0295",
         "0.426",
         "0.00419",
         "0.0735",
         "0.196",
         "78.899",
         "4"
        ],
        [
         "10",
         "4mzP5mHkRvGxdhdGdAH7EJ",
         "Zack Tabudlo",
         "Episode",
         "Give Me Your Forever",
         "74",
         "244800",
         "False",
         "0.627",
         "0.363",
         "8",
         "-8.127",
         "1",
         "0.0291",
         "0.279",
         "0.0",
         "0.0928",
         "0.301",
         "99.905",
         "4"
        ],
        [
         "11",
         "5ivF4eQBqJiVL5IAE9jRyl",
         "Jason Mraz",
         "Love Is a Four Letter Word",
         "I Won't Give Up",
         "69",
         "240165",
         "False",
         "0.483",
         "0.303",
         "4",
         "-10.058",
         "1",
         "0.0429",
         "0.694",
         "0.0",
         "0.115",
         "0.139",
         "133.406",
         "3"
        ],
        [
         "12",
         "4ptDJbJl35d7gQfeNteBwp",
         "Dan Berk",
         "Solo",
         "Solo",
         "52",
         "198712",
         "False",
         "0.489",
         "0.314",
         "7",
         "-9.245",
         "0",
         "0.0331",
         "0.749",
         "0.0",
         "0.113",
         "0.607",
         "124.234",
         "4"
        ],
        [
         "13",
         "0X9MxHR1rTkEHDjp95F2OO",
         "Anna Hamilton",
         "Bad Liar",
         "Bad Liar",
         "62",
         "248448",
         "False",
         "0.691",
         "0.234",
         "3",
         "-6.441",
         "1",
         "0.0285",
         "0.777",
         "0.0",
         "0.12",
         "0.209",
         "87.103",
         "4"
        ],
        [
         "14",
         "4LbWtBkN82ZRhz9jqzgrb3",
         "Chord Overstreet;Deepend",
         "Hold On (Remix)",
         "Hold On - Remix",
         "56",
         "188133",
         "False",
         "0.755",
         "0.78",
         "2",
         "-6.084",
         "1",
         "0.0327",
         "0.124",
         "2.83e-05",
         "0.121",
         "0.387",
         "120.004",
         "4"
        ],
        [
         "15",
         "1KHdq8NK9QxnGjdXb55NiG",
         "Landon Pigg",
         "The Boy Who Never",
         "Falling in Love at a Coffee Shop",
         "58",
         "244986",
         "False",
         "0.489",
         "0.561",
         "4",
         "-7.933",
         "1",
         "0.0274",
         "0.2",
         "4.56e-05",
         "0.179",
         "0.238",
         "83.457",
         "3"
        ],
        [
         "16",
         "6xKeQgzfjixSUld14qUezm",
         "Andrew Foy;Renee Foy",
         "ily (i love you baby)",
         "ily (i love you baby)",
         "56",
         "129750",
         "False",
         "0.706",
         "0.112",
         "2",
         "-18.098",
         "1",
         "0.0391",
         "0.827",
         "4.03e-06",
         "0.125",
         "0.414",
         "110.154",
         "4"
        ],
        [
         "17",
         "4Yo0igmcoNyat1secaH0OD",
         "Andrew Foy;Renee Foy",
         "At My Worst",
         "At My Worst",
         "54",
         "169728",
         "False",
         "0.795",
         "0.0841",
         "10",
         "-18.09",
         "0",
         "0.0461",
         "0.742",
         "1.17e-05",
         "0.0853",
         "0.609",
         "91.803",
         "4"
        ],
        [
         "18",
         "2qLMf6TuEC3ruGJg4SMMN6",
         "Jason Mraz;Colbie Caillat",
         "We Sing. We Dance. We Steal Things.",
         "Lucky",
         "68",
         "189613",
         "False",
         "0.625",
         "0.414",
         "0",
         "-8.7",
         "1",
         "0.0369",
         "0.294",
         "0.0",
         "0.151",
         "0.669",
         "130.088",
         "4"
        ],
        [
         "19",
         "6CgNoAbFJ4Q4Id4EjtbXlC",
         "Boyce Avenue;Bea Miller",
         "Cover Sessions, Vol. 4",
         "Photograph",
         "67",
         "260186",
         "False",
         "0.717",
         "0.32",
         "3",
         "-8.393",
         "1",
         "0.0283",
         "0.83",
         "0.0",
         "0.107",
         "0.322",
         "107.946",
         "4"
        ],
        [
         "20",
         "3S0OXQeoh0w6AY8WQVckRW",
         "Jason Mraz",
         "We Sing. We Dance. We Steal Things.",
         "I'm Yours",
         "75",
         "242946",
         "False",
         "0.703",
         "0.444",
         "11",
         "-9.331",
         "1",
         "0.0417",
         "0.559",
         "0.0",
         "0.0973",
         "0.712",
         "150.96",
         "4"
        ],
        [
         "21",
         "210JCw2LbYD4YIs8GiZ9iP",
         "Boyce Avenue;Jennel Garcia",
         "Cover Sessions, Vol. 3",
         "Demons",
         "63",
         "174174",
         "False",
         "0.678",
         "0.351",
         "0",
         "-8.654",
         "1",
         "0.0266",
         "0.747",
         "0.0",
         "0.355",
         "0.569",
         "90.032",
         "4"
        ],
        [
         "22",
         "5TvE3pk05pyFIGdSY9j4DJ",
         "A Great Big World;Christina Aguilera",
         "Is There Anybody Out There? - Track by Track Commentary",
         "Say Something",
         "70",
         "229400",
         "False",
         "0.407",
         "0.147",
         "2",
         "-8.822",
         "1",
         "0.0355",
         "0.857",
         "2.89e-06",
         "0.0913",
         "0.0765",
         "141.284",
         "3"
        ],
        [
         "23",
         "0BUuuEvNa5T4lMaewyiudB",
         "Jason Mraz",
         "Coffee Moment",
         "93 Million Miles",
         "0",
         "216386",
         "False",
         "0.572",
         "0.454",
         "3",
         "-10.286",
         "1",
         "0.0258",
         "0.477",
         "1.37e-05",
         "0.0974",
         "0.515",
         "140.182",
         "4"
        ],
        [
         "24",
         "3Hn3LfhrQOaKihdCibJsTs",
         "Jason Mraz",
         "Human - Best Adult Pop Tunes",
         "Unlonely",
         "0",
         "231266",
         "False",
         "0.796",
         "0.667",
         "5",
         "-4.831",
         "0",
         "0.0392",
         "0.381",
         "0.0",
         "0.221",
         "0.754",
         "97.988",
         "4"
        ],
        [
         "25",
         "6D33wCKzWtNEgOovgeVJ7r",
         "Jason Mraz",
         "Mellow Adult Pop",
         "Bella Luna",
         "1",
         "302346",
         "False",
         "0.755",
         "0.454",
         "9",
         "-9.609",
         "0",
         "0.0352",
         "0.757",
         "0.0",
         "0.236",
         "0.33",
         "120.06",
         "4"
        ],
        [
         "26",
         "5IfCZDRXZrqZSm8AwE44PG",
         "Jason Mraz",
         "Holly Jolly Christmas",
         "Winter Wonderland",
         "0",
         "131760",
         "False",
         "0.62",
         "0.309",
         "5",
         "-9.209",
         "1",
         "0.0495",
         "0.788",
         "0.0",
         "0.146",
         "0.664",
         "145.363",
         "4"
        ],
        [
         "27",
         "0dzKBptH2P5j5a0MifBMwM",
         "Jason Mraz",
         "Feeling Good - Adult Pop Favorites",
         "If It Kills Me",
         "0",
         "273653",
         "False",
         "0.633",
         "0.429",
         "4",
         "-6.784",
         "0",
         "0.0381",
         "0.0444",
         "0.0",
         "0.132",
         "0.52",
         "143.793",
         "4"
        ],
        [
         "28",
         "5QAMZTM5cmLg3fHX9ZbTZi",
         "Jason Mraz",
         "Christmas Time",
         "Winter Wonderland",
         "0",
         "131760",
         "False",
         "0.62",
         "0.309",
         "5",
         "-9.209",
         "1",
         "0.0495",
         "0.788",
         "0.0",
         "0.146",
         "0.664",
         "145.363",
         "4"
        ],
        [
         "29",
         "2qESE1ZeWly7I3YjyTXmXh",
         "Jason Mraz",
         "Perfect Christmas Hits",
         "Winter Wonderland",
         "0",
         "131760",
         "False",
         "0.62",
         "0.309",
         "5",
         "-9.209",
         "1",
         "0.0495",
         "0.788",
         "0.0",
         "0.146",
         "0.664",
         "145.363",
         "4"
        ],
        [
         "30",
         "3EQV1ZHtHvq9OnVRYIdbg3",
         "Jason Mraz",
         "Merry Christmas",
         "Winter Wonderland",
         "0",
         "131760",
         "False",
         "0.62",
         "0.309",
         "5",
         "-9.209",
         "1",
         "0.0495",
         "0.788",
         "0.0",
         "0.146",
         "0.664",
         "145.363",
         "4"
        ],
        [
         "31",
         "3ax0rfGb7exLtl02LL08U9",
         "Jason Mraz",
         "Christmas Music - Holiday Hits",
         "Winter Wonderland",
         "0",
         "131760",
         "False",
         "0.62",
         "0.309",
         "5",
         "-9.209",
         "1",
         "0.0495",
         "0.788",
         "0.0",
         "0.146",
         "0.664",
         "145.363",
         "4"
        ],
        [
         "32",
         "1m5LC29RE52Bxy7hxvpOlL",
         "Chord Overstreet",
         "Christmas Country Songs 2022",
         "All I Want For Christmas Is A Real Good Tan",
         "0",
         "234186",
         "False",
         "0.593",
         "0.455",
         "6",
         "-8.192",
         "1",
         "0.0388",
         "0.366",
         "0.0",
         "0.0914",
         "0.564",
         "202.019",
         "4"
        ],
        [
         "33",
         "3H36x7buZdQD4687VmFrwY",
         "Brandi Carlile;Sam Smith",
         "Human - Best Adult Pop Tunes",
         "Party of One",
         "0",
         "259558",
         "False",
         "0.296",
         "0.206",
         "0",
         "-11.799",
         "1",
         "0.0412",
         "0.782",
         "0.000225",
         "0.0959",
         "0.202",
         "165.4",
         "4"
        ],
        [
         "34",
         "0xbMRcMFqxJq1Wa7tvWPtn",
         "Brandi Carlile;Sam Smith",
         "Feeling Good - Adult Pop Favorites",
         "Party of One",
         "0",
         "259558",
         "False",
         "0.296",
         "0.206",
         "0",
         "-11.799",
         "1",
         "0.0412",
         "0.782",
         "0.000225",
         "0.0959",
         "0.202",
         "165.4",
         "4"
        ],
        [
         "35",
         "6h061f44HZPj1OXO2nA45d",
         "Brandi Carlile;Sam Smith",
         "Mellow Bars R'n'B",
         "Party of One",
         "0",
         "259558",
         "False",
         "0.296",
         "0.206",
         "0",
         "-11.799",
         "1",
         "0.0412",
         "0.782",
         "0.000225",
         "0.0959",
         "0.202",
         "165.4",
         "4"
        ],
        [
         "36",
         "62EwQLDw0dprDzuLwQ0sH1",
         "KT Tunstall",
         "Chill Christmas Dinner",
         "Lonely This Christmas",
         "0",
         "257493",
         "False",
         "0.409",
         "0.153",
         "6",
         "-10.74",
         "0",
         "0.0306",
         "0.939",
         "2.56e-05",
         "0.108",
         "0.18",
         "85.262",
         "4"
        ],
        [
         "37",
         "3lvo0I8c2qBJDLZWqExDgC",
         "Brandi Carlile",
         "rainy day indie",
         "Throwing Good After Bad",
         "0",
         "247791",
         "False",
         "0.501",
         "0.0952",
         "2",
         "-12.931",
         "1",
         "0.054",
         "0.963",
         "1.58e-05",
         "0.0915",
         "0.316",
         "138.016",
         "4"
        ],
        [
         "38",
         "1ae8XfBQ3fDEvmBjFaemGV",
         "Brandi Carlile",
         "Coffee Moment",
         "This Time Tomorrow",
         "0",
         "206267",
         "False",
         "0.606",
         "0.326",
         "10",
         "-10.031",
         "1",
         "0.0294",
         "0.841",
         "0.0",
         "0.139",
         "0.414",
         "91.626",
         "4"
        ],
        [
         "39",
         "0adVktNVJXPZfhQe6B1NO5",
         "KT Tunstall",
         "sadsadchristmas",
         "Lonely This Christmas",
         "0",
         "257493",
         "False",
         "0.409",
         "0.153",
         "6",
         "-10.74",
         "0",
         "0.0306",
         "0.939",
         "2.56e-05",
         "0.108",
         "0.18",
         "85.262",
         "4"
        ],
        [
         "40",
         "6sp6Vx3sv2l5qxPfbQkcyt",
         "Eddie Vedder",
         "Mega Hits Autumn/Fall 2022",
         "The Haves",
         "0",
         "306794",
         "False",
         "0.474",
         "0.519",
         "7",
         "-5.291",
         "1",
         "0.0253",
         "0.281",
         "0.0",
         "0.107",
         "0.326",
         "151.832",
         "4"
        ],
        [
         "41",
         "1WFVfVjCtbmdIv7j3Fa9iy",
         "Brandi Carlile",
         "Mellow Adult Pop",
         "When You're Wrong",
         "0",
         "266960",
         "False",
         "0.568",
         "0.301",
         "10",
         "-10.163",
         "0",
         "0.0373",
         "0.796",
         "3.37e-06",
         "0.118",
         "0.142",
         "88.029",
         "4"
        ],
        [
         "42",
         "0e5PAxSyZ5DWWVqKANHETz",
         "Brandi Carlile;Lucius",
         "Country Car Hits",
         "You and Me on the Rock",
         "0",
         "230098",
         "False",
         "0.568",
         "0.686",
         "1",
         "-6.635",
         "1",
         "0.033",
         "0.15",
         "1.81e-06",
         "0.0881",
         "0.725",
         "172.075",
         "4"
        ],
        [
         "43",
         "1MLr9b1fOybO3MGiLy47Ys",
         "Brandi Carlile;Lucius",
         "Country Road Songs",
         "You and Me on the Rock",
         "0",
         "230098",
         "False",
         "0.568",
         "0.686",
         "1",
         "-6.635",
         "1",
         "0.033",
         "0.15",
         "1.81e-06",
         "0.0881",
         "0.725",
         "172.075",
         "4"
        ],
        [
         "44",
         "6JGjevTaqr9J1xp7YvYUKF",
         "Brandi Carlile",
         "Finest Country",
         "Speak Your Mind (From the Netflix Series \"We The People\")",
         "0",
         "193943",
         "False",
         "0.476",
         "0.666",
         "6",
         "-3.438",
         "1",
         "0.0446",
         "0.314",
         "0.0",
         "0.342",
         "0.498",
         "148.155",
         "4"
        ],
        [
         "45",
         "7Af2YlwMZryKOQiRfwMsD2",
         "Brandi Carlile;Lucius",
         "Easy Country",
         "You and Me on the Rock",
         "0",
         "230098",
         "False",
         "0.568",
         "0.686",
         "1",
         "-6.635",
         "1",
         "0.033",
         "0.15",
         "1.81e-06",
         "0.0881",
         "0.725",
         "172.075",
         "4"
        ],
        [
         "46",
         "3RE5nHIVkC4KcA7snFaTKd",
         "Brandi Carlile;Lucius",
         "Cozy Country",
         "You and Me on the Rock",
         "0",
         "230098",
         "False",
         "0.568",
         "0.686",
         "1",
         "-6.635",
         "1",
         "0.033",
         "0.15",
         "1.81e-06",
         "0.0881",
         "0.725",
         "172.075",
         "4"
        ],
        [
         "47",
         "0JvkNRyq8Tmot9khpdtN0I",
         "Brandi Carlile;Lucius",
         "Good Times Country",
         "You and Me on the Rock",
         "0",
         "230098",
         "False",
         "0.568",
         "0.686",
         "1",
         "-6.635",
         "1",
         "0.033",
         "0.15",
         "1.81e-06",
         "0.0881",
         "0.725",
         "172.075",
         "4"
        ],
        [
         "48",
         "27gHtbsHClwimHFtKgFop4",
         "Brandi Carlile;Lucius",
         "Laidback Country",
         "You and Me on the Rock",
         "0",
         "230098",
         "False",
         "0.568",
         "0.686",
         "1",
         "-6.635",
         "1",
         "0.033",
         "0.15",
         "1.81e-06",
         "0.0881",
         "0.725",
         "172.075",
         "4"
        ],
        [
         "49",
         "1QBNBGeIRRGBnLhdlHbfI8",
         "Brandi Carlile;Lucius",
         "Chillin' It - Mellow Day Country",
         "You and Me on the Rock",
         "0",
         "230098",
         "False",
         "0.568",
         "0.686",
         "1",
         "-6.635",
         "1",
         "0.033",
         "0.15",
         "1.81e-06",
         "0.0881",
         "0.725",
         "172.075",
         "4"
        ]
       ],
       "shape": {
        "columns": 19,
        "rows": 90460
       }
      },
      "text/html": [
       "<div>\n",
       "<style scoped>\n",
       "    .dataframe tbody tr th:only-of-type {\n",
       "        vertical-align: middle;\n",
       "    }\n",
       "\n",
       "    .dataframe tbody tr th {\n",
       "        vertical-align: top;\n",
       "    }\n",
       "\n",
       "    .dataframe thead th {\n",
       "        text-align: right;\n",
       "    }\n",
       "</style>\n",
       "<table border=\"1\" class=\"dataframe\">\n",
       "  <thead>\n",
       "    <tr style=\"text-align: right;\">\n",
       "      <th></th>\n",
       "      <th>track_id</th>\n",
       "      <th>artists</th>\n",
       "      <th>album_name</th>\n",
       "      <th>track_name</th>\n",
       "      <th>popularity</th>\n",
       "      <th>duration_ms</th>\n",
       "      <th>explicit</th>\n",
       "      <th>danceability</th>\n",
       "      <th>energy</th>\n",
       "      <th>key</th>\n",
       "      <th>loudness</th>\n",
       "      <th>mode</th>\n",
       "      <th>speechiness</th>\n",
       "      <th>acousticness</th>\n",
       "      <th>instrumentalness</th>\n",
       "      <th>liveness</th>\n",
       "      <th>valence</th>\n",
       "      <th>tempo</th>\n",
       "      <th>time_signature</th>\n",
       "    </tr>\n",
       "  </thead>\n",
       "  <tbody>\n",
       "    <tr>\n",
       "      <th>0</th>\n",
       "      <td>5SuOikwiRyPMVoIQDJUgSV</td>\n",
       "      <td>Gen Hoshino</td>\n",
       "      <td>Comedy</td>\n",
       "      <td>Comedy</td>\n",
       "      <td>73</td>\n",
       "      <td>230666</td>\n",
       "      <td>False</td>\n",
       "      <td>0.676</td>\n",
       "      <td>0.4610</td>\n",
       "      <td>1</td>\n",
       "      <td>-6.746</td>\n",
       "      <td>0</td>\n",
       "      <td>0.1430</td>\n",
       "      <td>0.0322</td>\n",
       "      <td>0.000001</td>\n",
       "      <td>0.3580</td>\n",
       "      <td>0.7150</td>\n",
       "      <td>87.917</td>\n",
       "      <td>4</td>\n",
       "    </tr>\n",
       "    <tr>\n",
       "      <th>1</th>\n",
       "      <td>4qPNDBW1i3p13qLCt0Ki3A</td>\n",
       "      <td>Ben Woodward</td>\n",
       "      <td>Ghost (Acoustic)</td>\n",
       "      <td>Ghost - Acoustic</td>\n",
       "      <td>55</td>\n",
       "      <td>149610</td>\n",
       "      <td>False</td>\n",
       "      <td>0.420</td>\n",
       "      <td>0.1660</td>\n",
       "      <td>1</td>\n",
       "      <td>-17.235</td>\n",
       "      <td>1</td>\n",
       "      <td>0.0763</td>\n",
       "      <td>0.9240</td>\n",
       "      <td>0.000006</td>\n",
       "      <td>0.1010</td>\n",
       "      <td>0.2670</td>\n",
       "      <td>77.489</td>\n",
       "      <td>4</td>\n",
       "    </tr>\n",
       "    <tr>\n",
       "      <th>2</th>\n",
       "      <td>1iJBSr7s7jYXzM8EGcbK5b</td>\n",
       "      <td>Ingrid Michaelson;ZAYN</td>\n",
       "      <td>To Begin Again</td>\n",
       "      <td>To Begin Again</td>\n",
       "      <td>57</td>\n",
       "      <td>210826</td>\n",
       "      <td>False</td>\n",
       "      <td>0.438</td>\n",
       "      <td>0.3590</td>\n",
       "      <td>0</td>\n",
       "      <td>-9.734</td>\n",
       "      <td>1</td>\n",
       "      <td>0.0557</td>\n",
       "      <td>0.2100</td>\n",
       "      <td>0.000000</td>\n",
       "      <td>0.1170</td>\n",
       "      <td>0.1200</td>\n",
       "      <td>76.332</td>\n",
       "      <td>4</td>\n",
       "    </tr>\n",
       "    <tr>\n",
       "      <th>3</th>\n",
       "      <td>6lfxq3CG4xtTiEg7opyCyx</td>\n",
       "      <td>Kina Grannis</td>\n",
       "      <td>Crazy Rich Asians (Original Motion Picture Sou...</td>\n",
       "      <td>Can't Help Falling In Love</td>\n",
       "      <td>71</td>\n",
       "      <td>201933</td>\n",
       "      <td>False</td>\n",
       "      <td>0.266</td>\n",
       "      <td>0.0596</td>\n",
       "      <td>0</td>\n",
       "      <td>-18.515</td>\n",
       "      <td>1</td>\n",
       "      <td>0.0363</td>\n",
       "      <td>0.9050</td>\n",
       "      <td>0.000071</td>\n",
       "      <td>0.1320</td>\n",
       "      <td>0.1430</td>\n",
       "      <td>181.740</td>\n",
       "      <td>3</td>\n",
       "    </tr>\n",
       "    <tr>\n",
       "      <th>4</th>\n",
       "      <td>5vjLSffimiIP26QG5WcN2K</td>\n",
       "      <td>Chord Overstreet</td>\n",
       "      <td>Hold On</td>\n",
       "      <td>Hold On</td>\n",
       "      <td>82</td>\n",
       "      <td>198853</td>\n",
       "      <td>False</td>\n",
       "      <td>0.618</td>\n",
       "      <td>0.4430</td>\n",
       "      <td>2</td>\n",
       "      <td>-9.681</td>\n",
       "      <td>1</td>\n",
       "      <td>0.0526</td>\n",
       "      <td>0.4690</td>\n",
       "      <td>0.000000</td>\n",
       "      <td>0.0829</td>\n",
       "      <td>0.1670</td>\n",
       "      <td>119.949</td>\n",
       "      <td>4</td>\n",
       "    </tr>\n",
       "    <tr>\n",
       "      <th>...</th>\n",
       "      <td>...</td>\n",
       "      <td>...</td>\n",
       "      <td>...</td>\n",
       "      <td>...</td>\n",
       "      <td>...</td>\n",
       "      <td>...</td>\n",
       "      <td>...</td>\n",
       "      <td>...</td>\n",
       "      <td>...</td>\n",
       "      <td>...</td>\n",
       "      <td>...</td>\n",
       "      <td>...</td>\n",
       "      <td>...</td>\n",
       "      <td>...</td>\n",
       "      <td>...</td>\n",
       "      <td>...</td>\n",
       "      <td>...</td>\n",
       "      <td>...</td>\n",
       "      <td>...</td>\n",
       "    </tr>\n",
       "    <tr>\n",
       "      <th>113995</th>\n",
       "      <td>2C3TZjDRiAzdyViavDJ217</td>\n",
       "      <td>Rainy Lullaby</td>\n",
       "      <td>#mindfulness - Soft Rain for Mindful Meditatio...</td>\n",
       "      <td>Sleep My Little Boy</td>\n",
       "      <td>21</td>\n",
       "      <td>384999</td>\n",
       "      <td>False</td>\n",
       "      <td>0.172</td>\n",
       "      <td>0.2350</td>\n",
       "      <td>5</td>\n",
       "      <td>-16.393</td>\n",
       "      <td>1</td>\n",
       "      <td>0.0422</td>\n",
       "      <td>0.6400</td>\n",
       "      <td>0.928000</td>\n",
       "      <td>0.0863</td>\n",
       "      <td>0.0339</td>\n",
       "      <td>125.995</td>\n",
       "      <td>5</td>\n",
       "    </tr>\n",
       "    <tr>\n",
       "      <th>113996</th>\n",
       "      <td>1hIz5L4IB9hN3WRYPOCGPw</td>\n",
       "      <td>Rainy Lullaby</td>\n",
       "      <td>#mindfulness - Soft Rain for Mindful Meditatio...</td>\n",
       "      <td>Water Into Light</td>\n",
       "      <td>22</td>\n",
       "      <td>385000</td>\n",
       "      <td>False</td>\n",
       "      <td>0.174</td>\n",
       "      <td>0.1170</td>\n",
       "      <td>0</td>\n",
       "      <td>-18.318</td>\n",
       "      <td>0</td>\n",
       "      <td>0.0401</td>\n",
       "      <td>0.9940</td>\n",
       "      <td>0.976000</td>\n",
       "      <td>0.1050</td>\n",
       "      <td>0.0350</td>\n",
       "      <td>85.239</td>\n",
       "      <td>4</td>\n",
       "    </tr>\n",
       "    <tr>\n",
       "      <th>113997</th>\n",
       "      <td>6x8ZfSoqDjuNa5SVP5QjvX</td>\n",
       "      <td>Cesária Evora</td>\n",
       "      <td>Best Of</td>\n",
       "      <td>Miss Perfumado</td>\n",
       "      <td>22</td>\n",
       "      <td>271466</td>\n",
       "      <td>False</td>\n",
       "      <td>0.629</td>\n",
       "      <td>0.3290</td>\n",
       "      <td>0</td>\n",
       "      <td>-10.895</td>\n",
       "      <td>0</td>\n",
       "      <td>0.0420</td>\n",
       "      <td>0.8670</td>\n",
       "      <td>0.000000</td>\n",
       "      <td>0.0839</td>\n",
       "      <td>0.7430</td>\n",
       "      <td>132.378</td>\n",
       "      <td>4</td>\n",
       "    </tr>\n",
       "    <tr>\n",
       "      <th>113998</th>\n",
       "      <td>2e6sXL2bYv4bSz6VTdnfLs</td>\n",
       "      <td>Michael W. Smith</td>\n",
       "      <td>Change Your World</td>\n",
       "      <td>Friends</td>\n",
       "      <td>41</td>\n",
       "      <td>283893</td>\n",
       "      <td>False</td>\n",
       "      <td>0.587</td>\n",
       "      <td>0.5060</td>\n",
       "      <td>7</td>\n",
       "      <td>-10.889</td>\n",
       "      <td>1</td>\n",
       "      <td>0.0297</td>\n",
       "      <td>0.3810</td>\n",
       "      <td>0.000000</td>\n",
       "      <td>0.2700</td>\n",
       "      <td>0.4130</td>\n",
       "      <td>135.960</td>\n",
       "      <td>4</td>\n",
       "    </tr>\n",
       "    <tr>\n",
       "      <th>113999</th>\n",
       "      <td>2hETkH7cOfqmz3LqZDHZf5</td>\n",
       "      <td>Cesária Evora</td>\n",
       "      <td>Miss Perfumado</td>\n",
       "      <td>Barbincor</td>\n",
       "      <td>22</td>\n",
       "      <td>241826</td>\n",
       "      <td>False</td>\n",
       "      <td>0.526</td>\n",
       "      <td>0.4870</td>\n",
       "      <td>1</td>\n",
       "      <td>-10.204</td>\n",
       "      <td>0</td>\n",
       "      <td>0.0725</td>\n",
       "      <td>0.6810</td>\n",
       "      <td>0.000000</td>\n",
       "      <td>0.0893</td>\n",
       "      <td>0.7080</td>\n",
       "      <td>79.198</td>\n",
       "      <td>4</td>\n",
       "    </tr>\n",
       "  </tbody>\n",
       "</table>\n",
       "<p>90460 rows × 19 columns</p>\n",
       "</div>"
      ],
      "text/plain": [
       "                      track_id                 artists  \\\n",
       "0       5SuOikwiRyPMVoIQDJUgSV             Gen Hoshino   \n",
       "1       4qPNDBW1i3p13qLCt0Ki3A            Ben Woodward   \n",
       "2       1iJBSr7s7jYXzM8EGcbK5b  Ingrid Michaelson;ZAYN   \n",
       "3       6lfxq3CG4xtTiEg7opyCyx            Kina Grannis   \n",
       "4       5vjLSffimiIP26QG5WcN2K        Chord Overstreet   \n",
       "...                        ...                     ...   \n",
       "113995  2C3TZjDRiAzdyViavDJ217           Rainy Lullaby   \n",
       "113996  1hIz5L4IB9hN3WRYPOCGPw           Rainy Lullaby   \n",
       "113997  6x8ZfSoqDjuNa5SVP5QjvX           Cesária Evora   \n",
       "113998  2e6sXL2bYv4bSz6VTdnfLs        Michael W. Smith   \n",
       "113999  2hETkH7cOfqmz3LqZDHZf5           Cesária Evora   \n",
       "\n",
       "                                               album_name  \\\n",
       "0                                                  Comedy   \n",
       "1                                        Ghost (Acoustic)   \n",
       "2                                          To Begin Again   \n",
       "3       Crazy Rich Asians (Original Motion Picture Sou...   \n",
       "4                                                 Hold On   \n",
       "...                                                   ...   \n",
       "113995  #mindfulness - Soft Rain for Mindful Meditatio...   \n",
       "113996  #mindfulness - Soft Rain for Mindful Meditatio...   \n",
       "113997                                            Best Of   \n",
       "113998                                  Change Your World   \n",
       "113999                                     Miss Perfumado   \n",
       "\n",
       "                        track_name  popularity  duration_ms  explicit  \\\n",
       "0                           Comedy          73       230666     False   \n",
       "1                 Ghost - Acoustic          55       149610     False   \n",
       "2                   To Begin Again          57       210826     False   \n",
       "3       Can't Help Falling In Love          71       201933     False   \n",
       "4                          Hold On          82       198853     False   \n",
       "...                            ...         ...          ...       ...   \n",
       "113995         Sleep My Little Boy          21       384999     False   \n",
       "113996            Water Into Light          22       385000     False   \n",
       "113997              Miss Perfumado          22       271466     False   \n",
       "113998                     Friends          41       283893     False   \n",
       "113999                   Barbincor          22       241826     False   \n",
       "\n",
       "        danceability  energy  key  loudness  mode  speechiness  acousticness  \\\n",
       "0              0.676  0.4610    1    -6.746     0       0.1430        0.0322   \n",
       "1              0.420  0.1660    1   -17.235     1       0.0763        0.9240   \n",
       "2              0.438  0.3590    0    -9.734     1       0.0557        0.2100   \n",
       "3              0.266  0.0596    0   -18.515     1       0.0363        0.9050   \n",
       "4              0.618  0.4430    2    -9.681     1       0.0526        0.4690   \n",
       "...              ...     ...  ...       ...   ...          ...           ...   \n",
       "113995         0.172  0.2350    5   -16.393     1       0.0422        0.6400   \n",
       "113996         0.174  0.1170    0   -18.318     0       0.0401        0.9940   \n",
       "113997         0.629  0.3290    0   -10.895     0       0.0420        0.8670   \n",
       "113998         0.587  0.5060    7   -10.889     1       0.0297        0.3810   \n",
       "113999         0.526  0.4870    1   -10.204     0       0.0725        0.6810   \n",
       "\n",
       "        instrumentalness  liveness  valence    tempo  time_signature  \n",
       "0               0.000001    0.3580   0.7150   87.917               4  \n",
       "1               0.000006    0.1010   0.2670   77.489               4  \n",
       "2               0.000000    0.1170   0.1200   76.332               4  \n",
       "3               0.000071    0.1320   0.1430  181.740               3  \n",
       "4               0.000000    0.0829   0.1670  119.949               4  \n",
       "...                  ...       ...      ...      ...             ...  \n",
       "113995          0.928000    0.0863   0.0339  125.995               5  \n",
       "113996          0.976000    0.1050   0.0350   85.239               4  \n",
       "113997          0.000000    0.0839   0.7430  132.378               4  \n",
       "113998          0.000000    0.2700   0.4130  135.960               4  \n",
       "113999          0.000000    0.0893   0.7080   79.198               4  \n",
       "\n",
       "[90460 rows x 19 columns]"
      ]
     },
     "execution_count": 11,
     "metadata": {},
     "output_type": "execute_result"
    }
   ],
   "source": [
    "track_df = df.drop('track_genre', axis=1).drop_duplicates()\n",
    "track_df"
   ]
  },
  {
   "cell_type": "markdown",
   "id": "058a74c2",
   "metadata": {},
   "source": [
    "#### Выбросы"
   ]
  },
  {
   "cell_type": "code",
   "execution_count": 12,
   "id": "1119c0f1",
   "metadata": {},
   "outputs": [
    {
     "data": {
      "application/vnd.microsoft.datawrangler.viewer.v0+json": {
       "columns": [
        {
         "name": "index",
         "rawType": "int64",
         "type": "integer"
        },
        {
         "name": "popularity",
         "rawType": "int64",
         "type": "integer"
        },
        {
         "name": "duration_ms",
         "rawType": "int64",
         "type": "integer"
        },
        {
         "name": "danceability",
         "rawType": "float64",
         "type": "float"
        },
        {
         "name": "energy",
         "rawType": "float64",
         "type": "float"
        },
        {
         "name": "key",
         "rawType": "int64",
         "type": "integer"
        },
        {
         "name": "loudness",
         "rawType": "float64",
         "type": "float"
        },
        {
         "name": "mode",
         "rawType": "int64",
         "type": "integer"
        },
        {
         "name": "speechiness",
         "rawType": "float64",
         "type": "float"
        },
        {
         "name": "acousticness",
         "rawType": "float64",
         "type": "float"
        },
        {
         "name": "instrumentalness",
         "rawType": "float64",
         "type": "float"
        },
        {
         "name": "liveness",
         "rawType": "float64",
         "type": "float"
        },
        {
         "name": "valence",
         "rawType": "float64",
         "type": "float"
        },
        {
         "name": "tempo",
         "rawType": "float64",
         "type": "float"
        },
        {
         "name": "time_signature",
         "rawType": "int64",
         "type": "integer"
        }
       ],
       "ref": "59282184-a242-4f16-ab9e-89051bdd6dea",
       "rows": [
        [
         "0",
         "73",
         "230666",
         "0.676",
         "0.461",
         "1",
         "-6.746",
         "0",
         "0.143",
         "0.0322",
         "1.01e-06",
         "0.358",
         "0.715",
         "87.917",
         "4"
        ],
        [
         "1",
         "55",
         "149610",
         "0.42",
         "0.166",
         "1",
         "-17.235",
         "1",
         "0.0763",
         "0.924",
         "5.56e-06",
         "0.101",
         "0.267",
         "77.489",
         "4"
        ],
        [
         "2",
         "57",
         "210826",
         "0.438",
         "0.359",
         "0",
         "-9.734",
         "1",
         "0.0557",
         "0.21",
         "0.0",
         "0.117",
         "0.12",
         "76.332",
         "4"
        ],
        [
         "3",
         "71",
         "201933",
         "0.266",
         "0.0596",
         "0",
         "-18.515",
         "1",
         "0.0363",
         "0.905",
         "7.07e-05",
         "0.132",
         "0.143",
         "181.74",
         "3"
        ],
        [
         "4",
         "82",
         "198853",
         "0.618",
         "0.443",
         "2",
         "-9.681",
         "1",
         "0.0526",
         "0.469",
         "0.0",
         "0.0829",
         "0.167",
         "119.949",
         "4"
        ]
       ],
       "shape": {
        "columns": 14,
        "rows": 5
       }
      },
      "text/html": [
       "<div>\n",
       "<style scoped>\n",
       "    .dataframe tbody tr th:only-of-type {\n",
       "        vertical-align: middle;\n",
       "    }\n",
       "\n",
       "    .dataframe tbody tr th {\n",
       "        vertical-align: top;\n",
       "    }\n",
       "\n",
       "    .dataframe thead th {\n",
       "        text-align: right;\n",
       "    }\n",
       "</style>\n",
       "<table border=\"1\" class=\"dataframe\">\n",
       "  <thead>\n",
       "    <tr style=\"text-align: right;\">\n",
       "      <th></th>\n",
       "      <th>popularity</th>\n",
       "      <th>duration_ms</th>\n",
       "      <th>danceability</th>\n",
       "      <th>energy</th>\n",
       "      <th>key</th>\n",
       "      <th>loudness</th>\n",
       "      <th>mode</th>\n",
       "      <th>speechiness</th>\n",
       "      <th>acousticness</th>\n",
       "      <th>instrumentalness</th>\n",
       "      <th>liveness</th>\n",
       "      <th>valence</th>\n",
       "      <th>tempo</th>\n",
       "      <th>time_signature</th>\n",
       "    </tr>\n",
       "  </thead>\n",
       "  <tbody>\n",
       "    <tr>\n",
       "      <th>0</th>\n",
       "      <td>73</td>\n",
       "      <td>230666</td>\n",
       "      <td>0.676</td>\n",
       "      <td>0.4610</td>\n",
       "      <td>1</td>\n",
       "      <td>-6.746</td>\n",
       "      <td>0</td>\n",
       "      <td>0.1430</td>\n",
       "      <td>0.0322</td>\n",
       "      <td>0.000001</td>\n",
       "      <td>0.3580</td>\n",
       "      <td>0.715</td>\n",
       "      <td>87.917</td>\n",
       "      <td>4</td>\n",
       "    </tr>\n",
       "    <tr>\n",
       "      <th>1</th>\n",
       "      <td>55</td>\n",
       "      <td>149610</td>\n",
       "      <td>0.420</td>\n",
       "      <td>0.1660</td>\n",
       "      <td>1</td>\n",
       "      <td>-17.235</td>\n",
       "      <td>1</td>\n",
       "      <td>0.0763</td>\n",
       "      <td>0.9240</td>\n",
       "      <td>0.000006</td>\n",
       "      <td>0.1010</td>\n",
       "      <td>0.267</td>\n",
       "      <td>77.489</td>\n",
       "      <td>4</td>\n",
       "    </tr>\n",
       "    <tr>\n",
       "      <th>2</th>\n",
       "      <td>57</td>\n",
       "      <td>210826</td>\n",
       "      <td>0.438</td>\n",
       "      <td>0.3590</td>\n",
       "      <td>0</td>\n",
       "      <td>-9.734</td>\n",
       "      <td>1</td>\n",
       "      <td>0.0557</td>\n",
       "      <td>0.2100</td>\n",
       "      <td>0.000000</td>\n",
       "      <td>0.1170</td>\n",
       "      <td>0.120</td>\n",
       "      <td>76.332</td>\n",
       "      <td>4</td>\n",
       "    </tr>\n",
       "    <tr>\n",
       "      <th>3</th>\n",
       "      <td>71</td>\n",
       "      <td>201933</td>\n",
       "      <td>0.266</td>\n",
       "      <td>0.0596</td>\n",
       "      <td>0</td>\n",
       "      <td>-18.515</td>\n",
       "      <td>1</td>\n",
       "      <td>0.0363</td>\n",
       "      <td>0.9050</td>\n",
       "      <td>0.000071</td>\n",
       "      <td>0.1320</td>\n",
       "      <td>0.143</td>\n",
       "      <td>181.740</td>\n",
       "      <td>3</td>\n",
       "    </tr>\n",
       "    <tr>\n",
       "      <th>4</th>\n",
       "      <td>82</td>\n",
       "      <td>198853</td>\n",
       "      <td>0.618</td>\n",
       "      <td>0.4430</td>\n",
       "      <td>2</td>\n",
       "      <td>-9.681</td>\n",
       "      <td>1</td>\n",
       "      <td>0.0526</td>\n",
       "      <td>0.4690</td>\n",
       "      <td>0.000000</td>\n",
       "      <td>0.0829</td>\n",
       "      <td>0.167</td>\n",
       "      <td>119.949</td>\n",
       "      <td>4</td>\n",
       "    </tr>\n",
       "  </tbody>\n",
       "</table>\n",
       "</div>"
      ],
      "text/plain": [
       "   popularity  duration_ms  danceability  energy  key  loudness  mode  \\\n",
       "0          73       230666         0.676  0.4610    1    -6.746     0   \n",
       "1          55       149610         0.420  0.1660    1   -17.235     1   \n",
       "2          57       210826         0.438  0.3590    0    -9.734     1   \n",
       "3          71       201933         0.266  0.0596    0   -18.515     1   \n",
       "4          82       198853         0.618  0.4430    2    -9.681     1   \n",
       "\n",
       "   speechiness  acousticness  instrumentalness  liveness  valence    tempo  \\\n",
       "0       0.1430        0.0322          0.000001    0.3580    0.715   87.917   \n",
       "1       0.0763        0.9240          0.000006    0.1010    0.267   77.489   \n",
       "2       0.0557        0.2100          0.000000    0.1170    0.120   76.332   \n",
       "3       0.0363        0.9050          0.000071    0.1320    0.143  181.740   \n",
       "4       0.0526        0.4690          0.000000    0.0829    0.167  119.949   \n",
       "\n",
       "   time_signature  \n",
       "0               4  \n",
       "1               4  \n",
       "2               4  \n",
       "3               3  \n",
       "4               4  "
      ]
     },
     "execution_count": 12,
     "metadata": {},
     "output_type": "execute_result"
    }
   ],
   "source": [
    "track_df = track_df.select_dtypes('number')\n",
    "track_df.head()"
   ]
  },
  {
   "cell_type": "code",
   "execution_count": 13,
   "id": "57285ed7",
   "metadata": {},
   "outputs": [
    {
     "data": {
      "application/vnd.microsoft.datawrangler.viewer.v0+json": {
       "columns": [
        {
         "name": "index",
         "rawType": "object",
         "type": "string"
        },
        {
         "name": "popularity",
         "rawType": "float64",
         "type": "float"
        },
        {
         "name": "duration_ms",
         "rawType": "float64",
         "type": "float"
        },
        {
         "name": "danceability",
         "rawType": "float64",
         "type": "float"
        },
        {
         "name": "energy",
         "rawType": "float64",
         "type": "float"
        },
        {
         "name": "key",
         "rawType": "float64",
         "type": "float"
        },
        {
         "name": "loudness",
         "rawType": "float64",
         "type": "float"
        },
        {
         "name": "mode",
         "rawType": "float64",
         "type": "float"
        },
        {
         "name": "speechiness",
         "rawType": "float64",
         "type": "float"
        },
        {
         "name": "acousticness",
         "rawType": "float64",
         "type": "float"
        },
        {
         "name": "instrumentalness",
         "rawType": "float64",
         "type": "float"
        },
        {
         "name": "liveness",
         "rawType": "float64",
         "type": "float"
        },
        {
         "name": "valence",
         "rawType": "float64",
         "type": "float"
        },
        {
         "name": "tempo",
         "rawType": "float64",
         "type": "float"
        },
        {
         "name": "time_signature",
         "rawType": "float64",
         "type": "float"
        }
       ],
       "ref": "18219fb6-93fe-496f-9faa-f453890ca725",
       "rows": [
        [
         "count",
         "90460.0",
         "90460.0",
         "90460.0",
         "90460.0",
         "90460.0",
         "90460.0",
         "90460.0",
         "90460.0",
         "90460.0",
         "90460.0",
         "90460.0",
         "90460.0",
         "90460.0",
         "90460.0"
        ],
        [
         "mean",
         "33.232003095290736",
         "229132.13000221094",
         "0.5624970672120274",
         "0.6348239268980765",
         "5.284125580367013",
         "-8.490442383373868",
         "0.636900287419854",
         "0.08736465951801903",
         "0.3276495817603361",
         "0.17286454676276805",
         "0.21708679206279022",
         "0.46981003792836606",
         "122.07553582799027",
         "3.897899624143268"
        ],
        [
         "std",
         "20.607726857923417",
         "112745.87228732681",
         "0.17655368926471543",
         "0.2563198791096102",
         "3.559823340275306",
         "5.2093598542865625",
         "0.4808959012125291",
         "0.11303534631657638",
         "0.338027408576104",
         "0.32340350512352223",
         "0.19504493282255986",
         "0.262789048327548",
         "30.11497170456305",
         "0.45241393970387594"
        ],
        [
         "min",
         "0.0",
         "8586.0",
         "0.0",
         "0.0",
         "0.0",
         "-49.531",
         "0.0",
         "0.0",
         "0.0",
         "0.0",
         "0.0",
         "0.0",
         "0.0",
         "0.0"
        ],
        [
         "25%",
         "19.0",
         "173045.5",
         "0.45",
         "0.458",
         "2.0",
         "-10.312",
         "0.0",
         "0.036",
         "0.0171",
         "0.0",
         "0.0982",
         "0.25",
         "99.26875000000001",
         "4.0"
        ],
        [
         "50%",
         "33.0",
         "213293.0",
         "0.576",
         "0.677",
         "5.0",
         "-7.182",
         "1.0",
         "0.04895",
         "0.187",
         "5.78e-05",
         "0.132",
         "0.458",
         "122.017",
         "4.0"
        ],
        [
         "75%",
         "49.0",
         "264240.0",
         "0.692",
         "0.853",
         "8.0",
         "-5.107",
         "1.0",
         "0.0858",
         "0.624",
         "0.0954",
         "0.279",
         "0.683",
         "140.08",
         "4.0"
        ],
        [
         "max",
         "100.0",
         "5237295.0",
         "0.985",
         "1.0",
         "11.0",
         "4.532",
         "1.0",
         "0.965",
         "0.996",
         "1.0",
         "1.0",
         "0.995",
         "243.372",
         "5.0"
        ]
       ],
       "shape": {
        "columns": 14,
        "rows": 8
       }
      },
      "text/html": [
       "<div>\n",
       "<style scoped>\n",
       "    .dataframe tbody tr th:only-of-type {\n",
       "        vertical-align: middle;\n",
       "    }\n",
       "\n",
       "    .dataframe tbody tr th {\n",
       "        vertical-align: top;\n",
       "    }\n",
       "\n",
       "    .dataframe thead th {\n",
       "        text-align: right;\n",
       "    }\n",
       "</style>\n",
       "<table border=\"1\" class=\"dataframe\">\n",
       "  <thead>\n",
       "    <tr style=\"text-align: right;\">\n",
       "      <th></th>\n",
       "      <th>popularity</th>\n",
       "      <th>duration_ms</th>\n",
       "      <th>danceability</th>\n",
       "      <th>energy</th>\n",
       "      <th>key</th>\n",
       "      <th>loudness</th>\n",
       "      <th>mode</th>\n",
       "      <th>speechiness</th>\n",
       "      <th>acousticness</th>\n",
       "      <th>instrumentalness</th>\n",
       "      <th>liveness</th>\n",
       "      <th>valence</th>\n",
       "      <th>tempo</th>\n",
       "      <th>time_signature</th>\n",
       "    </tr>\n",
       "  </thead>\n",
       "  <tbody>\n",
       "    <tr>\n",
       "      <th>count</th>\n",
       "      <td>90460.000000</td>\n",
       "      <td>9.046000e+04</td>\n",
       "      <td>90460.000000</td>\n",
       "      <td>90460.000000</td>\n",
       "      <td>90460.000000</td>\n",
       "      <td>90460.000000</td>\n",
       "      <td>90460.000000</td>\n",
       "      <td>90460.000000</td>\n",
       "      <td>90460.000000</td>\n",
       "      <td>90460.000000</td>\n",
       "      <td>90460.000000</td>\n",
       "      <td>90460.000000</td>\n",
       "      <td>90460.000000</td>\n",
       "      <td>90460.000000</td>\n",
       "    </tr>\n",
       "    <tr>\n",
       "      <th>mean</th>\n",
       "      <td>33.232003</td>\n",
       "      <td>2.291321e+05</td>\n",
       "      <td>0.562497</td>\n",
       "      <td>0.634824</td>\n",
       "      <td>5.284126</td>\n",
       "      <td>-8.490442</td>\n",
       "      <td>0.636900</td>\n",
       "      <td>0.087365</td>\n",
       "      <td>0.327650</td>\n",
       "      <td>0.172865</td>\n",
       "      <td>0.217087</td>\n",
       "      <td>0.469810</td>\n",
       "      <td>122.075536</td>\n",
       "      <td>3.897900</td>\n",
       "    </tr>\n",
       "    <tr>\n",
       "      <th>std</th>\n",
       "      <td>20.607727</td>\n",
       "      <td>1.127459e+05</td>\n",
       "      <td>0.176554</td>\n",
       "      <td>0.256320</td>\n",
       "      <td>3.559823</td>\n",
       "      <td>5.209360</td>\n",
       "      <td>0.480896</td>\n",
       "      <td>0.113035</td>\n",
       "      <td>0.338027</td>\n",
       "      <td>0.323404</td>\n",
       "      <td>0.195045</td>\n",
       "      <td>0.262789</td>\n",
       "      <td>30.114972</td>\n",
       "      <td>0.452414</td>\n",
       "    </tr>\n",
       "    <tr>\n",
       "      <th>min</th>\n",
       "      <td>0.000000</td>\n",
       "      <td>8.586000e+03</td>\n",
       "      <td>0.000000</td>\n",
       "      <td>0.000000</td>\n",
       "      <td>0.000000</td>\n",
       "      <td>-49.531000</td>\n",
       "      <td>0.000000</td>\n",
       "      <td>0.000000</td>\n",
       "      <td>0.000000</td>\n",
       "      <td>0.000000</td>\n",
       "      <td>0.000000</td>\n",
       "      <td>0.000000</td>\n",
       "      <td>0.000000</td>\n",
       "      <td>0.000000</td>\n",
       "    </tr>\n",
       "    <tr>\n",
       "      <th>25%</th>\n",
       "      <td>19.000000</td>\n",
       "      <td>1.730455e+05</td>\n",
       "      <td>0.450000</td>\n",
       "      <td>0.458000</td>\n",
       "      <td>2.000000</td>\n",
       "      <td>-10.312000</td>\n",
       "      <td>0.000000</td>\n",
       "      <td>0.036000</td>\n",
       "      <td>0.017100</td>\n",
       "      <td>0.000000</td>\n",
       "      <td>0.098200</td>\n",
       "      <td>0.250000</td>\n",
       "      <td>99.268750</td>\n",
       "      <td>4.000000</td>\n",
       "    </tr>\n",
       "    <tr>\n",
       "      <th>50%</th>\n",
       "      <td>33.000000</td>\n",
       "      <td>2.132930e+05</td>\n",
       "      <td>0.576000</td>\n",
       "      <td>0.677000</td>\n",
       "      <td>5.000000</td>\n",
       "      <td>-7.182000</td>\n",
       "      <td>1.000000</td>\n",
       "      <td>0.048950</td>\n",
       "      <td>0.187000</td>\n",
       "      <td>0.000058</td>\n",
       "      <td>0.132000</td>\n",
       "      <td>0.458000</td>\n",
       "      <td>122.017000</td>\n",
       "      <td>4.000000</td>\n",
       "    </tr>\n",
       "    <tr>\n",
       "      <th>75%</th>\n",
       "      <td>49.000000</td>\n",
       "      <td>2.642400e+05</td>\n",
       "      <td>0.692000</td>\n",
       "      <td>0.853000</td>\n",
       "      <td>8.000000</td>\n",
       "      <td>-5.107000</td>\n",
       "      <td>1.000000</td>\n",
       "      <td>0.085800</td>\n",
       "      <td>0.624000</td>\n",
       "      <td>0.095400</td>\n",
       "      <td>0.279000</td>\n",
       "      <td>0.683000</td>\n",
       "      <td>140.080000</td>\n",
       "      <td>4.000000</td>\n",
       "    </tr>\n",
       "    <tr>\n",
       "      <th>max</th>\n",
       "      <td>100.000000</td>\n",
       "      <td>5.237295e+06</td>\n",
       "      <td>0.985000</td>\n",
       "      <td>1.000000</td>\n",
       "      <td>11.000000</td>\n",
       "      <td>4.532000</td>\n",
       "      <td>1.000000</td>\n",
       "      <td>0.965000</td>\n",
       "      <td>0.996000</td>\n",
       "      <td>1.000000</td>\n",
       "      <td>1.000000</td>\n",
       "      <td>0.995000</td>\n",
       "      <td>243.372000</td>\n",
       "      <td>5.000000</td>\n",
       "    </tr>\n",
       "  </tbody>\n",
       "</table>\n",
       "</div>"
      ],
      "text/plain": [
       "         popularity   duration_ms  danceability        energy           key  \\\n",
       "count  90460.000000  9.046000e+04  90460.000000  90460.000000  90460.000000   \n",
       "mean      33.232003  2.291321e+05      0.562497      0.634824      5.284126   \n",
       "std       20.607727  1.127459e+05      0.176554      0.256320      3.559823   \n",
       "min        0.000000  8.586000e+03      0.000000      0.000000      0.000000   \n",
       "25%       19.000000  1.730455e+05      0.450000      0.458000      2.000000   \n",
       "50%       33.000000  2.132930e+05      0.576000      0.677000      5.000000   \n",
       "75%       49.000000  2.642400e+05      0.692000      0.853000      8.000000   \n",
       "max      100.000000  5.237295e+06      0.985000      1.000000     11.000000   \n",
       "\n",
       "           loudness          mode   speechiness  acousticness  \\\n",
       "count  90460.000000  90460.000000  90460.000000  90460.000000   \n",
       "mean      -8.490442      0.636900      0.087365      0.327650   \n",
       "std        5.209360      0.480896      0.113035      0.338027   \n",
       "min      -49.531000      0.000000      0.000000      0.000000   \n",
       "25%      -10.312000      0.000000      0.036000      0.017100   \n",
       "50%       -7.182000      1.000000      0.048950      0.187000   \n",
       "75%       -5.107000      1.000000      0.085800      0.624000   \n",
       "max        4.532000      1.000000      0.965000      0.996000   \n",
       "\n",
       "       instrumentalness      liveness       valence         tempo  \\\n",
       "count      90460.000000  90460.000000  90460.000000  90460.000000   \n",
       "mean           0.172865      0.217087      0.469810    122.075536   \n",
       "std            0.323404      0.195045      0.262789     30.114972   \n",
       "min            0.000000      0.000000      0.000000      0.000000   \n",
       "25%            0.000000      0.098200      0.250000     99.268750   \n",
       "50%            0.000058      0.132000      0.458000    122.017000   \n",
       "75%            0.095400      0.279000      0.683000    140.080000   \n",
       "max            1.000000      1.000000      0.995000    243.372000   \n",
       "\n",
       "       time_signature  \n",
       "count    90460.000000  \n",
       "mean         3.897900  \n",
       "std          0.452414  \n",
       "min          0.000000  \n",
       "25%          4.000000  \n",
       "50%          4.000000  \n",
       "75%          4.000000  \n",
       "max          5.000000  "
      ]
     },
     "execution_count": 13,
     "metadata": {},
     "output_type": "execute_result"
    }
   ],
   "source": [
    "track_df.describe()"
   ]
  },
  {
   "cell_type": "markdown",
   "id": "2868002e",
   "metadata": {},
   "source": [
    "Смотрим графики boxplot"
   ]
  },
  {
   "cell_type": "code",
   "execution_count": 14,
   "id": "b101f86b",
   "metadata": {},
   "outputs": [
    {
     "data": {
      "image/png": "[encoded data removed]",
      "text/plain": [
       "<Figure size 640x480 with 1 Axes>"
      ]
     },
     "metadata": {},
     "output_type": "display_data"
    }
   ],
   "source": [
    "track_df.drop('duration_ms', axis=1).boxplot()\n",
    "plt.show()"
   ]
  },
  {
   "cell_type": "code",
   "execution_count": 15,
   "id": "d4f93da3",
   "metadata": {},
   "outputs": [
    {
     "data": {
      "image/png": "[encoded data removed]",
      "text/plain": [
       "<Figure size 640x480 with 1 Axes>"
      ]
     },
     "metadata": {},
     "output_type": "display_data"
    }
   ],
   "source": [
    "track_df[['duration_ms']].boxplot()\n",
    "plt.show()"
   ]
  },
  {
   "cell_type": "markdown",
   "id": "900df5c2",
   "metadata": {},
   "source": [
    "Почти во всех столбцах присутствуют выбросы, значит их нужно заменить"
   ]
  },
  {
   "cell_type": "code",
   "execution_count": 16,
   "id": "d5ddf382",
   "metadata": {},
   "outputs": [],
   "source": [
    "def interquartile(df: pd.DataFrame):\n",
    "    Q1, Q3 = df.quantile(0.25), df.quantile(0.75)\n",
    "    max_val, min_val = df.max(axis=0), df.min(axis=0)\n",
    "    upper_bound = Q3 + (Q3 - Q1)*1.5\n",
    "    lower_bound = Q1 - (Q3 - Q1)*1.5\n",
    "    print(\"Границы по межквартильному расстоянию\")\n",
    "    for col in df.columns:\n",
    "        print(col + ':\\t\\t' + str(((df[col] < lower_bound[col]) | (df[col] > upper_bound[col])).sum()) + \" выбросов\")\n",
    "        df.loc[df[col] < lower_bound[col], col] = max(lower_bound[col], min_val[col])\n",
    "        df.loc[df[col] > upper_bound[col], col] = min(upper_bound[col], max_val[col])\n",
    "\n",
    "    return df\n",
    "    \n",
    "\n",
    "def z_quantile(df: pd.DataFrame, threshold = 3.0):\n",
    "    mean = df.mean(axis=0)\n",
    "    bound = threshold * df.std(axis=0)\n",
    "    max_val, min_val = df.max(axis=0), df.min(axis=0)\n",
    "    print(\"Границы по z-преобразованию\")\n",
    "    for col in df.columns:\n",
    "        print(col + ':\\t\\t' + str(((df[col] < mean[col] - bound[col]) | (df[col] > mean[col] + bound[col])).sum()) + \" выбросов\")\n",
    "        df.loc[df[col] < mean[col] - bound[col], col] = max(mean[col] - bound[col], min_val[col])\n",
    "        df.loc[df[col] > mean[col] + bound[col], col] = min(mean[col] + bound[col], max_val[col])\n",
    "    \n",
    "    return df\n"
   ]
  },
  {
   "cell_type": "code",
   "execution_count": 17,
   "id": "233d895a",
   "metadata": {},
   "outputs": [
    {
     "name": "stdout",
     "output_type": "stream",
     "text": [
      "Границы по межквартильному расстоянию\n",
      "popularity:\t\t12 выбросов\n",
      "duration_ms:\t\t4280 выбросов\n",
      "danceability:\t\t474 выбросов\n",
      "energy:\t\t0 выбросов\n",
      "key:\t\t0 выбросов\n",
      "loudness:\t\t5041 выбросов\n",
      "mode:\t\t0 выбросов\n",
      "speechiness:\t\t10711 выбросов\n",
      "acousticness:\t\t0 выбросов\n",
      "instrumentalness:\t\t19779 выбросов\n",
      "liveness:\t\t7053 выбросов\n",
      "valence:\t\t0 выбросов\n",
      "tempo:\t\t518 выбросов\n",
      "time_signature:\t\t10236 выбросов\n"
     ]
    },
    {
     "name": "stderr",
     "output_type": "stream",
     "text": [
      "C:\\Users\\Jrytoeku Qtuhtc\\AppData\\Local\\Temp\\ipykernel_13184\\1658775263.py:9: FutureWarning: Setting an item of incompatible dtype is deprecated and will raise an error in a future version of pandas. Value '36253.75' has dtype incompatible with int64, please explicitly cast to a compatible dtype first.\n",
      "  df.loc[df[col] < lower_bound[col], col] = max(lower_bound[col], min_val[col])\n"
     ]
    },
    {
     "data": {
      "text/plain": [
       "<Axes: >"
      ]
     },
     "execution_count": 17,
     "metadata": {},
     "output_type": "execute_result"
    },
    {
     "data": {
      "image/png": "[encoded data removed]",
      "text/plain": [
       "<Figure size 640x480 with 1 Axes>"
      ]
     },
     "metadata": {},
     "output_type": "display_data"
    }
   ],
   "source": [
    "interquartile(track_df.copy()).drop('duration_ms', axis=1).boxplot()"
   ]
  },
  {
   "cell_type": "code",
   "execution_count": 18,
   "id": "cabe64e4",
   "metadata": {},
   "outputs": [
    {
     "name": "stdout",
     "output_type": "stream",
     "text": [
      "Границы по z-преобразованию\n",
      "popularity:\t\t15794 выбросов\n",
      "duration_ms:\t\t4495 выбросов\n",
      "danceability:\t\t10682 выбросов\n",
      "energy:\t\t8268 выбросов\n",
      "key:\t\t7191 выбросов\n",
      "loudness:\t\t6604 выбросов\n",
      "mode:\t\t0 выбросов\n",
      "speechiness:\t\t5175 выбросов\n",
      "acousticness:\t\t10458 выбросов\n",
      "instrumentalness:\t\t14337 выбросов\n",
      "liveness:\t\t7550 выбросов\n",
      "valence:\t\t10834 выбросов\n",
      "tempo:\t\t11518 выбросов\n",
      "time_signature:\t\t10236 выбросов\n"
     ]
    },
    {
     "name": "stderr",
     "output_type": "stream",
     "text": [
      "C:\\Users\\Jrytoeku Qtuhtc\\AppData\\Local\\Temp\\ipykernel_13184\\1658775263.py:22: FutureWarning: Setting an item of incompatible dtype is deprecated and will raise an error in a future version of pandas. Value '1.083949196930206' has dtype incompatible with int64, please explicitly cast to a compatible dtype first.\n",
      "  df.loc[df[col] < mean[col] - bound[col], col] = max(mean[col] - bound[col], min_val[col])\n",
      "C:\\Users\\Jrytoeku Qtuhtc\\AppData\\Local\\Temp\\ipykernel_13184\\1658775263.py:22: FutureWarning: Setting an item of incompatible dtype is deprecated and will raise an error in a future version of pandas. Value '53248.56923398111' has dtype incompatible with int64, please explicitly cast to a compatible dtype first.\n",
      "  df.loc[df[col] < mean[col] - bound[col], col] = max(mean[col] - bound[col], min_val[col])\n",
      "C:\\Users\\Jrytoeku Qtuhtc\\AppData\\Local\\Temp\\ipykernel_13184\\1658775263.py:23: FutureWarning: Setting an item of incompatible dtype is deprecated and will raise an error in a future version of pandas. Value '10.83744999119649' has dtype incompatible with int64, please explicitly cast to a compatible dtype first.\n",
      "  df.loc[df[col] > mean[col] + bound[col], col] = min(mean[col] + bound[col], max_val[col])\n",
      "C:\\Users\\Jrytoeku Qtuhtc\\AppData\\Local\\Temp\\ipykernel_13184\\1658775263.py:22: FutureWarning: Setting an item of incompatible dtype is deprecated and will raise an error in a future version of pandas. Value '3.1921338782052215' has dtype incompatible with int64, please explicitly cast to a compatible dtype first.\n",
      "  df.loc[df[col] < mean[col] - bound[col], col] = max(mean[col] - bound[col], min_val[col])\n"
     ]
    },
    {
     "data": {
      "text/plain": [
       "<Axes: >"
      ]
     },
     "execution_count": 18,
     "metadata": {},
     "output_type": "execute_result"
    },
    {
     "data": {
      "image/png": "[encoded data removed]",
      "text/plain": [
       "<Figure size 640x480 with 1 Axes>"
      ]
     },
     "metadata": {},
     "output_type": "display_data"
    }
   ],
   "source": [
    "z_quantile(track_df.copy(), 1.56).drop('duration_ms', axis=1).boxplot()"
   ]
  },
  {
   "cell_type": "markdown",
   "id": "eb39899e",
   "metadata": {},
   "source": [
    "Выбираем пороги по межквартильному расстоянию, потому что так сглаживание значений более плавное (подходящее под каждую переменную), а при нормально стандартизации число выбросов примерно одинаковое, что не отражает разницу их распределений."
   ]
  },
  {
   "cell_type": "code",
   "execution_count": 19,
   "id": "e90f3906",
   "metadata": {},
   "outputs": [
    {
     "name": "stdout",
     "output_type": "stream",
     "text": [
      "Границы по межквартильному расстоянию\n",
      "popularity:\t\t12 выбросов\n",
      "duration_ms:\t\t4280 выбросов\n",
      "danceability:\t\t474 выбросов\n",
      "energy:\t\t0 выбросов\n",
      "key:\t\t0 выбросов\n",
      "loudness:\t\t5041 выбросов\n",
      "mode:\t\t0 выбросов\n",
      "speechiness:\t\t10711 выбросов\n",
      "acousticness:\t\t0 выбросов\n",
      "instrumentalness:\t\t19779 выбросов\n",
      "liveness:\t\t7053 выбросов\n",
      "valence:\t\t0 выбросов\n",
      "tempo:\t\t518 выбросов\n",
      "time_signature:\t\t10236 выбросов\n"
     ]
    },
    {
     "name": "stderr",
     "output_type": "stream",
     "text": [
      "C:\\Users\\Jrytoeku Qtuhtc\\AppData\\Local\\Temp\\ipykernel_13184\\1658775263.py:9: FutureWarning: Setting an item of incompatible dtype is deprecated and will raise an error in a future version of pandas. Value '36253.75' has dtype incompatible with int64, please explicitly cast to a compatible dtype first.\n",
      "  df.loc[df[col] < lower_bound[col], col] = max(lower_bound[col], min_val[col])\n"
     ]
    },
    {
     "data": {
      "text/plain": [
       "<Axes: >"
      ]
     },
     "execution_count": 19,
     "metadata": {},
     "output_type": "execute_result"
    },
    {
     "data": {
      "image/png": "[encoded data removed]",
      "text/plain": [
       "<Figure size 640x480 with 1 Axes>"
      ]
     },
     "metadata": {},
     "output_type": "display_data"
    }
   ],
   "source": [
    "interquartile(track_df)\n",
    "track_df.drop(\"duration_ms\", axis=1).boxplot()"
   ]
  }
 ],
 "metadata": {
  "kernelspec": {
   "display_name": "Python 3",
   "language": "python",
   "name": "python3"
  },
  "language_info": {
   "codemirror_mode": {
    "name": "ipython",
    "version": 3
   },
   "file_extension": ".py",
   "mimetype": "text/x-python",
   "name": "python",
   "nbconvert_exporter": "python",
   "pygments_lexer": "ipython3",
   "version": "3.11.9"
  }
 },
 "nbformat": 4,
 "nbformat_minor": 5
}
